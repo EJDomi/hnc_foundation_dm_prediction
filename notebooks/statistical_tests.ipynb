{
 "cells": [
  {
   "cell_type": "code",
   "execution_count": null,
   "id": "67e671e0-1c43-44dd-867e-cdad62ba0082",
   "metadata": {},
   "outputs": [],
   "source": [
    "import os, datetime\n",
    "from pathlib import Path\n",
    "import yaml\n",
    "import numpy as np\n",
    "import pandas as pd\n",
    "import torch\n",
    "import scipy\n",
    "import sklearn\n",
    "import matplotlib.pyplot as plt\n",
    "from matplotlib.backends.backend_pdf import PdfPages\n",
    "import scikit_posthocs as sp\n",
    "import torchmetrics\n",
    "import pytorch_lightning as L\n",
    "from hnc_foundation_dm_prediction import data_prep as dp\n",
    "from hnc_foundation_dm_prediction.pytorch.run_model_lightning import RunModel\n",
    "from hnc_foundation_dm_prediction.pytorch.user_metrics import MMetric\n",
    "from MLstatkit.stats import Delong_test"
   ]
  },
  {
   "cell_type": "code",
   "execution_count": null,
   "id": "650a0a1a-77d4-454b-9ca1-abb6ac49b01d",
   "metadata": {},
   "outputs": [],
   "source": [
    "# all of the metrics used in the evaluation, can add or remove as desired\n",
    "auc_fn = torchmetrics.classification.BinaryAUROC()\n",
    "ap_fn = torchmetrics.classification.BinaryAveragePrecision()\n",
    "spe_fn = torchmetrics.classification.BinarySpecificity()\n",
    "sen_fn = torchmetrics.classification.BinaryRecall()\n",
    "mul_auc_fn = torchmetrics.classification.MultilabelAUROC(num_labels=4, average=None)\n",
    "roc_fn = torchmetrics.classification.BinaryROC()\n",
    "pr_fn = torchmetrics.classification.BinaryPrecisionRecallCurve()"
   ]
  },
  {
   "cell_type": "code",
   "execution_count": null,
   "id": "03d7d625-ceda-4ece-acce-6780cde40a84",
   "metadata": {},
   "outputs": [],
   "source": [
    "# resets metric functions, should be run for each successive evaluation of probabilities as values entered into functions are persistent until reset\n",
    "auc_fn.reset()\n",
    "ap_fn.reset()\n",
    "spe_fn.reset()\n",
    "sen_fn.reset()\n",
    "roc_fn.reset()\n",
    "pr_fn.reset()\n",
    "mul_auc_fn.reset()"
   ]
  },
  {
   "cell_type": "code",
   "execution_count": null,
   "id": "b9404dec-0a90-4c39-ba5b-201577d99144",
   "metadata": {},
   "outputs": [],
   "source": [
    "#no_graph_log_dir = './logs/lightning_no_graph_feat64_true_weight3_balance_real_dp3_l21e6_11180_minmax_rot3_balance_newclinical_nolrfinder_nocensor_v54'\n",
    "#no_graph_log_dir = './logs/lightning_gtvp_gcn_foundation_rad_nopool_weight3_32_dp3_v86'\n",
    "#no_graph_log_dir = './logs/lightning_gtvp_gcn_rad_nopool_weight3_32_dp3_v92'\n",
    "#no_graph_log_dir = './logs/lightning_gtvp_gcn_rad_foundation_image_nopool_weight3_32_dp0_v99'\n",
    "no_graph_log_dir = './logs/lightning_gtvp_image_vit_nomask_nopool_weight7_22_dp2_v110'\n",
    "#no_graph_log_dir = './logs/lightning_gtvp_spottune18_weight7_dp3_v77'\n",
    "top_graph_dir = './logs/lightning_graph_feat64_true_weight3_balance_real_dp3_l21e6_11180_minmax_rot3_balance_newclinical_nolrfinder_nocensor_v55'\n",
    "tmp_dir = './logs/'\n",
    "#graph_log_dir = './logs/lightning_graph_feat64_weight1_balance_real_dp3_l21e6_11180_minmax_rot3_balance_newclinical_nolrfinder_nocensor_v49'\n",
    "spottune18_dir = './logs/lightning_spottune18_graph_weight1_v69'\n",
    "#graph_log_dir = './logs/lightning_spottune18_graph_weight1_v69'\n",
    "#graph_log_dir = './logs/lightning_gtv_gan_foundation_nopool_weight3_dp3_v83'\n",
    "#graph_log_dir = './logs/lightning_gtv_gan_foundation_rad_nopool_weight3_dp3_v84'\n",
    "#graph_log_dir = './logs/lightning_gtv_gcn_foundation_rad_nopool_weight3_dp3_v85'\n",
    "#graph_log_dir = './logs/lightning_gtv_gcn_image_foundation_rad_nopool_weight3_dp3_v85'\n",
    "#graph_log_dir = './logs/lightning_gtvp_gcn_foundation_nopool_weight3_32_dp3_v87'\n",
    "#graph_log_dir = './logs/lightning_gtvp_gcn_rad_nopool_weight3_32_dp3_v88'\n",
    "#graph_log_dir = './logs/lightning_gtvp_gcn_rad_foundation_nopool_weight3_32_dp0_v96'\n",
    "#graph_log_dir = './logs/lightning_gtvp_gcn_rad_nopool_weight3_32_dp0_v98'\n",
    "graph_log_dir = './logs/lightning_gtvp_foundation_image_vit_nomask_nopool_weight7_22_dp2_v111'\n",
    "#graph_log_dir = './logs/lightning_gtv_plusradiomics_gat_vit_weight3_dp3_v78'\n",
    "#graph_log_dir = './logs/lightning_undirected_edge_graph_feat64_true_weight3_balance_real_dp3_l21e6_11180_minmax_rot3_balance_newclinical_nolrfinder_nocensor_v56'\n",
    "#graph_log_dir = './logs/lightning_star_graph_v59'\n",
    "#graph_log_dir = './logs/lightning_star_graph_gat_vit_v61'\n",
    "#graph_log_dir = './logs/lightning_star_graph_gat_v60'\n",
    "#graph_log_dir = './logs/lightning_reverse_edge_graph_feat64_true_weight3_balance_real_dp3_l21e6_11180_minmax_rot3_balance_newclinical_nolrfinder_nocensor_v56'\n",
    "#graph_log_dir = './logs/lightning_undirected_edge_graph_feat64_true_weight3_balance_real_dp4_l21e6_11180_minmax_rot3_balance_newclinical_nolrfinder_nocensor_v57'\n",
    "#graph_log_dir = './logs/lightning_undirected_edge_graph_multi_label_v58'\n",
    "\n",
    "foundation_log_dir = 'logs/lightning_gtvp_foundation_linear_mask_nopool_weight7_22_dp2_v124/metric_dfs/test_predictions.pkl'\n",
    "radiomics_log_dir = 'logs/lightning_gtvp_rad_linear_mask_nopool_weight7_22_dp2_v123/metric_dfs/test_predictions.pkl'\n",
    "image_log_dir = 'logs/lightning_gtvp_image_vit_linear_mask_nopool_weight7_22_dp2_v120/metric_dfs/test_predictions.pkl'\n",
    "foundation_image_log_dir\n",
    "rad_image_log_dir\n",
    "foundation_rad_log_dir\n",
    "test_pred_file = 'metric_dfs/test_predictions.pkl'\n",
    "val_pred_file = 'metric_dfs/val_predictions.pkl'\n",
    "m_fn = MMetric(0.6, 0.4)"
   ]
  },
  {
   "cell_type": "code",
   "execution_count": null,
   "id": "8477224b-60b6-4e52-b6f2-2a7d9915546d",
   "metadata": {},
   "outputs": [],
   "source": [
    "test_graph_pred = pd.read_pickle(os.path.join(graph_log_dir, test_pred_file))\n",
    "test_no_graph_pred = pd.read_pickle(os.path.join(no_graph_log_dir, test_pred_file))\n",
    "\n",
    "foundation_pred =\n",
    "radiomics_pred =\n",
    "image_pred ="
   ]
  },
  {
   "cell_type": "code",
   "execution_count": null,
   "id": "57796499-b58e-4dd5-81a2-2efa8967cdb0",
   "metadata": {},
   "outputs": [],
   "source": [
    "test_graph_avg = []\n",
    "test_no_graph_avg = []\n",
    "test_graph_m = []\n",
    "test_no_graph_m = []\n",
    "#targets = test_graph_pred['targets'][0].reshape((test_graph_pred['val_auc'][0].size()[0], 4))\n",
    "targets = test_graph_pred['targets'][0]\n",
    "for idx in range(5):\n",
    "    test_graph_avg.append(list(test_graph_pred['val_auc'][idx]))\n",
    "    test_no_graph_avg.append(list(test_no_graph_pred['val_auc'][idx]))\n",
    "    test_graph_m.append(m_fn(sen_fn(test_graph_pred['val_auc'][idx], targets), spe_fn(test_graph_pred['val_auc'][idx], targets)))\n",
    "    test_no_graph_m.append(m_fn(sen_fn(test_no_graph_pred['val_auc'][idx], test_no_graph_pred['targets'][idx]), spe_fn(test_no_graph_pred['val_auc'][idx], test_no_graph_pred['targets'][idx])))\n",
    "\n",
    "test_graph_m = torch.tensor(test_graph_m)\n",
    "test_no_graph_m = torch.tensor(test_no_graph_m)\n",
    "\n",
    "test_graph_weight = test_graph_m / test_graph_m.sum()\n",
    "test_no_graph_weight = test_no_graph_m / test_no_graph_m.sum()\n",
    "test_graph_weight_update = []\n",
    "test_no_graph_weight_update = []\n",
    "for idx in range(5):\n",
    "    test_graph_weight_update.append([test_graph_weight[idx]] * len(test_graph_pred['targets'][0]))\n",
    "    test_no_graph_weight_update.append([test_no_graph_weight[idx]] * len(test_no_graph_pred['targets'][0]))\n"
   ]
  },
  {
   "cell_type": "code",
   "execution_count": null,
   "id": "98ed26e1-24ed-4156-a4c4-ac597323705d",
   "metadata": {},
   "outputs": [],
   "source": [
    "test_graph_avg = np.average(test_graph_avg, axis=0, weights=test_graph_weight_update)    \n",
    "test_no_graph_avg = np.average(test_no_graph_avg, axis=0, weights=test_no_graph_weight_update)    "
   ]
  },
  {
   "cell_type": "code",
   "execution_count": null,
   "id": "e8131dfe-a5b4-468f-933b-5ff37e6a23ec",
   "metadata": {},
   "outputs": [],
   "source": [
    "for pred_file in sorted(log_path.rglob('metric_dfs/*predictions.pkl'), key=lambda x: x.as_posix().split('/')[1].split('_')[-1]):\n",
    "    print(pred_file)"
   ]
  },
  {
   "cell_type": "code",
   "execution_count": null,
   "id": "ed63fbbc-c443-44d3-b8f1-5009fb4573e9",
   "metadata": {},
   "outputs": [],
   "source": [
    "pd.set_option('display.max_rows', None)"
   ]
  },
  {
   "cell_type": "code",
   "execution_count": null,
   "id": "5b3bc4aa-ead6-4681-a61f-c44764c4d524",
   "metadata": {},
   "outputs": [],
   "source": [
    "log_path = Path('./logs')\n",
    "metric_dict = {}\n",
    "targets = None\n",
    "target_folds = []\n",
    "pred_dict = {}\n",
    "pred_fold_dict = {}\n",
    "#for idx, pred_file in enumerate([\n",
    "#    'logs/lightning_gtvp_foundation_linear_mask_nopool_weight7_22_dp2_v124/metric_dfs/test_predictions.pkl',\n",
    "#    'logs/lightning_gtvp_rad_linear_mask_nopool_weight7_22_dp2_v123/metric_dfs/test_predictions.pkl',\n",
    "#    'logs/lightning_gtvp_image_vit_linear_mask_nopool_weight7_22_dp2_v120/metric_dfs/test_predictions.pkl',\n",
    "#    'logs/lightning_gtvp_rad_image_vit_linear_mask_nopool_weight7_22_dp2_v121/metric_dfs/test_predictions.pkl',\n",
    "#    'logs/lightning_gtvp_foundation_image_vit_linear_mask_nopool_weight7_22_dp2_v122/metric_dfs/test_predictions.pkl',\n",
    "#    'logs/lightning_gtvp_rad_foundation_image_vit_linear_mask_nopool_weight7_22_dp2_v123/metric_dfs/test_predictions.pkl', \n",
    "#]) :\n",
    "for pred_file in sorted(log_path.rglob('metric_dfs/*predictions.pkl'), key=lambda x: x.as_posix().split('/')[1].split('_')[-1]):\n",
    "    pred_file = Path(pred_file)\n",
    "    if 'test_predictions' not in pred_file.as_posix(): continue\n",
    "    pred_avg = []\n",
    "    model = pred_file.as_posix().split('/')[1]\n",
    "    if int(model.split('_')[-1].split('v')[-1]) < 90: continue\n",
    "    #print(model)\n",
    "    predictions = pd.read_pickle(pred_file)\n",
    "    if 'val_auc' not in predictions.keys(): continue\n",
    "    targets = predictions['targets'][0]\n",
    "    for idx in range(5):\n",
    "        pred_avg.append(list(predictions['val_auc'][idx]))\n",
    "    pred_fold_dict[model] = pred_avg\n",
    "    pred_avg = np.average(pred_avg, axis=0)\n",
    "    pred_dict[model] = pred_avg\n",
    "    #print(len(pred_avg), len(targets))\n",
    "    auc = auc_fn(torch.tensor(pred_avg), targets)\n",
    "    ap = ap_fn(torch.tensor(pred_avg), targets.to(torch.long))\n",
    "    sen = sen_fn(torch.tensor(pred_avg), targets)\n",
    "    spe = spe_fn(torch.tensor(pred_avg), targets)\n",
    "    metric_dict[model] = [float(auc), float(ap), float(sen), float(spe)]\n",
    "metric_df = pd.DataFrame(metric_dict, columns=['AUC', 'AP', 'SEN', 'SPE'], index=metric_dict.keys())\n",
    "for key in metric_dict.keys():\n",
    "    metric_df.loc[key] = metric_dict[key]\n",
    "metric_df\n",
    "\n"
   ]
  },
  {
   "cell_type": "code",
   "execution_count": null,
   "id": "bc458269-fe49-4c23-af3e-01e7fc5d3ba6",
   "metadata": {},
   "outputs": [],
   "source": [
    "pred_dict['foundation_rad_avg'] = np.average([\n",
    "    pred_dict['lightning_gtvp_foundation_linear_mask_nopool_weight7_22_dp2_v124'],\n",
    "    pred_dict['lightning_gtvp_rad_linear_mask_nopool_weight7_22_dp2_v123']\n",
    "], axis=0)\n",
    "pred_dict['foundation_image_avg'] = np.average([\n",
    "    pred_dict['lightning_gtvp_foundation_linear_mask_nopool_weight7_22_dp2_v124'],\n",
    "    pred_dict['lightning_gtvp_image_vit_linear_mask_nopool_weight7_22_dp2_v120']\n",
    "], axis=0)\n",
    "\n",
    "pred_dict['rad_image_avg'] = np.average([\n",
    "    pred_dict['lightning_gtvp_rad_linear_mask_nopool_weight7_22_dp2_v123'],\n",
    "    pred_dict['lightning_gtvp_image_vit_linear_mask_nopool_weight7_22_dp2_v120']\n",
    "], axis=0)\n",
    "pred_dict['foundation_rad_image_avg'] = np.average([\n",
    "    pred_dict['lightning_gtvp_foundation_linear_mask_nopool_weight7_22_dp2_v124'],\n",
    "    pred_dict['lightning_gtvp_rad_linear_mask_nopool_weight7_22_dp2_v123'],\n",
    "    pred_dict['lightning_gtvp_image_vit_linear_mask_nopool_weight7_22_dp2_v120']\n",
    "], axis=0)\n"
   ]
  },
  {
   "cell_type": "code",
   "execution_count": null,
   "id": "3d957ee7-ab44-4050-9960-32cf5352b362",
   "metadata": {},
   "outputs": [],
   "source": [
    "model_1 = 'lightning_gtvp_rad_image_vit_linear_nomask_nopool_weight7_22_dp2_v114'\n",
    "model_2 = 'lightning_gtvp_image_vit_linear_nomask_nopool_weight7_22_dp2_v114'\n",
    "model_3 = 'lightning_gtvp_foundation_image_vit_linear_nomask_nopool_weight7_22_dp2_v115' \n",
    "model_4 = 'lightning_gtvp_rad_foundation_image_vit_linear_nomask_nopool_weight7_22_dp2_v116'\n",
    "model_5 = 'lightning_gtvp_image_vit_linear_mask_nopool_weight7_22_dp2_v120'\n",
    "model_6 = 'lightning_gtvp_rad_image_vit_linear_mask_nopool_weight7_22_dp2_v121'\n",
    "model_7 = 'lightning_gtvp_foundation_image_vit_linear_mask_nopool_weight7_22_dp2_v122'\n",
    "model_8 = 'lightning_gtvp_rad_foundation_image_vit_linear_mask_nopool_weight7_22_dp2_v123'\n",
    "model_9 = 'lightning_gtvp_rad_linear_mask_nopool_weight7_22_dp2_v123'\n",
    "model_10 = 'lightning_gtvp_foundation_linear_mask_nopool_weight7_22_dp2_v124'\n",
    "for idx in range(1,10+1):\n",
    "    for jdx in range(1,10+1):\n",
    "        if idx == jdx: continue\n",
    "        print(globals().get(f'model_{idx}'), globals().get(f'model_{jdx}'))    \n",
    "        print(Delong_test(targets, pred_dict[globals().get(f'model_{idx}')],\n",
    "                         pred_dict[globals().get(f'model_{jdx}')]))"
   ]
  },
  {
   "cell_type": "code",
   "execution_count": null,
   "id": "06eeca25-7489-4df9-b54c-d8bef15c5f11",
   "metadata": {},
   "outputs": [],
   "source": [
    "t, p = scipy.stats.ttest_rel(test_graph_avg, test_no_graph_avg)\n",
    "print(p)"
   ]
  },
  {
   "cell_type": "code",
   "execution_count": null,
   "id": "b4d0e507-f208-4920-8448-6505ddddb78f",
   "metadata": {},
   "outputs": [],
   "source": [
    "for idx in range(5):\n",
    "    #t1, p1 = Delong_test(val_graph_pred['targets'][idx], val_graph_pred['val_auc'][idx], val_no_graph_pred['val_auc'][idx])\n",
    "    t2, p2 = Delong_test(test_graph_pred['targets'][idx], test_graph_pred['val_auc'][idx], test_no_graph_pred['val_auc'][idx])\n",
    "    print(p2)"
   ]
  },
  {
   "cell_type": "code",
   "execution_count": null,
   "id": "7f885b05-29b6-4a9b-910e-9cb631be881e",
   "metadata": {},
   "outputs": [],
   "source": [
    "Delong_test(test_graph_pred['targets'][1], test_graph_avg, test_no_graph_avg)"
   ]
  },
  {
   "cell_type": "code",
   "execution_count": null,
   "id": "9d25b5f2-2024-4ca1-b80d-6d061341c459",
   "metadata": {},
   "outputs": [],
   "source": [
    "#graph_mul_auc = mul_auc_fn(torch.tensor(test_graph_avg), targets.to(torch.long))\n",
    "graph_auc = auc_fn(torch.tensor(test_graph_avg), targets)\n",
    "no_graph_auc = auc_fn(torch.tensor(test_no_graph_avg), test_no_graph_pred['targets'][0])\n",
    "graph_ap = ap_fn(torch.tensor(test_graph_avg), targets.to(torch.long))\n",
    "no_graph_ap = ap_fn(torch.tensor(test_no_graph_avg), test_no_graph_pred['targets'][0].to(torch.long))\n",
    "graph_sen = sen_fn(torch.tensor(test_graph_avg), targets)\n",
    "no_graph_sen = sen_fn(torch.tensor(test_no_graph_avg), test_no_graph_pred['targets'][0])\n",
    "graph_spe = spe_fn(torch.tensor(test_graph_avg), targets)\n",
    "no_graph_spe = spe_fn(torch.tensor(test_no_graph_avg), test_no_graph_pred['targets'][0])\n",
    "print('auc:', graph_auc, no_graph_auc)\n",
    "print('ap:', graph_ap, no_graph_ap)\n",
    "print('sen:', graph_sen, no_graph_sen)\n",
    "print('spe:', graph_spe, no_graph_spe)"
   ]
  },
  {
   "cell_type": "code",
   "execution_count": null,
   "id": "137ccede-df88-4055-928f-fafb797f83e5",
   "metadata": {},
   "outputs": [],
   "source": [
    "auc_fn.reset()\n",
    "auc_fn.update(torch.tensor(test_graph_avg), test_graph_pred['targets'][0])\n",
    "graph_auc = auc_fn.compute()\n",
    "auc_fn.reset()\n",
    "auc_fn.update(torch.tensor(test_no_graph_avg), test_no_graph_pred['targets'][0])\n",
    "no_graph_auc = auc_fn.compute()\n",
    "\n",
    "ap_fn.reset()\n",
    "ap_fn.update(torch.tensor(test_graph_avg), test_graph_pred['targets'][0].to(torch.long))\n",
    "graph_ap = ap_fn.compute()\n",
    "ap_fn.reset()\n",
    "ap_fn.update(torch.tensor(test_no_graph_avg), test_no_graph_pred['targets'][0].to(torch.long))\n",
    "no_graph_ap = ap_fn.compute()\n",
    "\n",
    "sen_fn.reset()\n",
    "sen_fn.update(torch.tensor(test_graph_avg), test_graph_pred['targets'][0])\n",
    "graph_sen = sen_fn.compute()\n",
    "sen_fn.reset()\n",
    "sen_fn.update(torch.tensor(test_no_graph_avg), test_no_graph_pred['targets'][0])\n",
    "no_graph_sen = sen_fn.compute()\n",
    "\n",
    "spe_fn.reset()\n",
    "spe_fn.update(torch.tensor(test_graph_avg), test_graph_pred['targets'][0])\n",
    "graph_spe = spe_fn.compute()\n",
    "spe_fn.reset()\n",
    "spe_fn.update(torch.tensor(test_no_graph_avg), test_no_graph_pred['targets'][0])\n",
    "no_graph_spe = spe_fn.compute()\n",
    "\n",
    "print('auc:', graph_auc, no_graph_auc)\n",
    "print('ap:', graph_ap, no_graph_ap)\n",
    "print('sen:', graph_sen, no_graph_sen)\n",
    "print('spe:', graph_spe, no_graph_spe)"
   ]
  },
  {
   "cell_type": "code",
   "execution_count": null,
   "id": "269ae73e-0895-429a-9f5d-ba6944a20497",
   "metadata": {},
   "outputs": [],
   "source": [
    "pred_dict"
   ]
  },
  {
   "cell_type": "code",
   "execution_count": null,
   "id": "be61e75a-ae8a-4aac-8481-a3db332e618b",
   "metadata": {},
   "outputs": [],
   "source": [
    "fold_auc = {}\n",
    "fold_ap = {}\n",
    "fold_sen = {}\n",
    "fold_spe = {}\n",
    "\n",
    "for model in pred_fold_dict.keys():\n",
    "    fold_auc[model] = []\n",
    "    fold_ap[model] = []\n",
    "    fold_sen[model] = []\n",
    "    fold_spe[model] = []\n",
    "    for idx in range(5):\n",
    "        fold_auc[model].append(auc_fn(torch.tensor(pred_fold_dict[model][idx]), targets))\n",
    "        fold_ap[model].append(ap_fn(torch.tensor(pred_fold_dict[model][idx]), targets.to(torch.long)))\n",
    "        fold_sen[model].append(sen_fn(torch.tensor(pred_fold_dict[model][idx]), targets))\n",
    "        fold_spe[model].append(spe_fn(torch.tensor(pred_fold_dict[model][idx]), targets))\n",
    "\n",
    "fold_auc"
   ]
  },
  {
   "cell_type": "code",
   "execution_count": null,
   "id": "397ec15a-017c-44f2-a3b6-3404825c64da",
   "metadata": {},
   "outputs": [],
   "source": [
    "fold_spe"
   ]
  },
  {
   "cell_type": "code",
   "execution_count": null,
   "id": "298a0fd2-0fe8-422d-8472-3e0dd7b852b0",
   "metadata": {},
   "outputs": [],
   "source": [
    "model_auc = {}\n",
    "model_ap = {}\n",
    "model_sen = {}\n",
    "model_spe = {}\n",
    "for model in pred_dict.keys():\n",
    "    \n",
    "    \n",
    "    model_auc[model] = auc_fn(torch.tensor(pred_dict[model]), targets)\n",
    "    model_ap[model] = ap_fn(torch.tensor(pred_dict[model]), targets.to(torch.long))\n",
    "    model_sen[model] = sen_fn(torch.tensor(pred_dict[model]), targets)\n",
    "    model_spe[model] = spe_fn(torch.tensor(pred_dict[model]), targets)\n",
    "model_auc"
   ]
  },
  {
   "cell_type": "code",
   "execution_count": null,
   "id": "7015eaa4-87b4-47fb-a99a-d754acbef478",
   "metadata": {},
   "outputs": [],
   "source": []
  },
  {
   "cell_type": "code",
   "execution_count": null,
   "id": "ff83a016-6f6d-4d4b-b457-a75058428645",
   "metadata": {},
   "outputs": [],
   "source": [
    "for model in pred_dict.keys():\n",
    "    print(model)\n",
    "    print(f'    auc: {model_auc[model]}')\n",
    "    print(f'    ap: {model_ap[model]}')\n",
    "    print(f'    sen: {model_sen[model]}')\n",
    "    print(f'    spe: {model_spe[model]}')"
   ]
  },
  {
   "cell_type": "code",
   "execution_count": null,
   "id": "7dcf62c6-28b3-43a3-83d2-5c82e7133a2d",
   "metadata": {},
   "outputs": [],
   "source": [
    "from sklearn.metrics import RocCurveDisplay\n",
    "target = test_graph_pred['targets'][0]\n",
    "#figure = plt.figure()\n",
    "#axes = figure.add_subplot(111)\n",
    "display = RocCurveDisplay.from_predictions(target, test_graph_avg, name='CNN+GNN', plot_chance_level=True)\n",
    "RocCurveDisplay.from_predictions(target, test_no_graph_avg, name='CNN-only', plot_chance_level=False, ax=display.ax_)\n",
    "plt.grid(visible=True, which='both')\n",
    "plt.xlabel('False Positive Rate')\n",
    "plt.ylabel('True Positive Rate')\n",
    "handles, labels = plt.gca().get_legend_handles_labels()\n",
    "line_styles = ['-', '--', '-.', ':']\n",
    "for line, ls in zip(display.ax_.get_lines(), line_styles):\n",
    "    line.set_linestyle(ls)\n",
    "plt.legend([handles[idx] for idx in [0, 2, 1]], [labels[idx] for idx in [0, 2, 1]])\n",
    "display.figure_.savefig(f\"roc_curve_GNN.pdf\", dpi=600)\n",
    "plt.show()"
   ]
  },
  {
   "cell_type": "code",
   "execution_count": null,
   "id": "e21ebf61-df82-4f93-a6e9-3a6dc034bdcf",
   "metadata": {},
   "outputs": [],
   "source": [
    "metrics = [0.791, 0.5, 0.772, 0.753, 0.794, 0.788] "
   ]
  },
  {
   "cell_type": "code",
   "execution_count": null,
   "id": "52441d18-a838-4619-86f9-f33f53d9812a",
   "metadata": {},
   "outputs": [],
   "source": [
    "from sklearn.metrics import RocCurveDisplay\n",
    "#figure = plt.figure()\n",
    "#axes = figure.add_subplot(111)\n",
    "display = RocCurveDisplay.from_predictions(targets, pred_dict['lightning_gtvp_foundation_linear_mask_nopool_weight7_22_dp2_v124'], name='Foundation Emb.', plot_chance_level=True)\n",
    "RocCurveDisplay.from_predictions(targets, pred_dict['lightning_gtvp_rad_linear_mask_nopool_weight7_22_dp2_v123'], name='Radiomics', plot_chance_level=False, ax=display.ax_)\n",
    "RocCurveDisplay.from_predictions(targets, pred_dict['lightning_gtvp_image_vit_linear_mask_nopool_weight7_22_dp2_v120'].ravel(), name='Image w/mask', plot_chance_level=False, ax=display.ax_)\n",
    "RocCurveDisplay.from_predictions(targets, pred_dict['lightning_gtvp_rad_image_vit_linear_mask_nopool_weight7_22_dp2_v121'].ravel(), name='Rad. + Image w/mask', plot_chance_level=False, ax=display.ax_)\n",
    "RocCurveDisplay.from_predictions(targets, pred_dict['lightning_gtvp_image_spottune_nograph_nopool_weight7_22_dp2_v143'].ravel(), name='Spottune: Image w/o mask', plot_chance_level=False, ax=display.ax_)\n",
    "plt.grid(visible=True, which='both')\n",
    "plt.xlabel('False Positive Rate')\n",
    "plt.ylabel('True Positive Rate')\n",
    "handles, labels = plt.gca().get_legend_handles_labels()\n",
    "line_styles = ['-', '--', ':', '-.', 'dashed', '-.']\n",
    "for line, ls in zip(display.ax_.get_lines(), line_styles):\n",
    "    line.set_linestyle(ls)\n",
    "plt.legend([handles[idx] for idx in [0, 2, 3, 4, 5, 1]], \n",
    "           #[labels[idx] for idx in [0, 2, 3, 4, 5, 1]])\n",
    "           [labels[idx].replace(''.join(labels[idx][-5:]), f'{metrics[idx]:.3f})')  for idx in [0, 2, 3, 4, 5, 1]])\n",
    "display.figure_.savefig(f\"roc_curve_foundation_v3.png\", dpi=600)\n",
    "plt.show()"
   ]
  },
  {
   "cell_type": "code",
   "execution_count": null,
   "id": "6faecd18-a509-4f7b-b7f5-d1bf775d78d7",
   "metadata": {},
   "outputs": [],
   "source": [
    "display.figure_.savefig(f\"roc_curve_GNN.png\", dpi=600)"
   ]
  },
  {
   "cell_type": "code",
   "execution_count": null,
   "id": "3aa1899f-b69a-4696-8308-1beb8a9525d9",
   "metadata": {},
   "outputs": [],
   "source": [
    "fold_auc.keys()"
   ]
  },
  {
   "cell_type": "code",
   "execution_count": null,
   "id": "70bfefde-ac3a-429d-8d8d-0a7349c52683",
   "metadata": {},
   "outputs": [],
   "source": [
    "torch.tensor(fold_auc['lightning_gtvp_rad_image_vit_linear_mask_nopool_weight7_22_dp2_v121']).std()"
   ]
  },
  {
   "cell_type": "markdown",
   "id": "39bb8f24-5dfd-4536-9f2f-ba4474445198",
   "metadata": {
    "jp-MarkdownHeadingCollapsed": true
   },
   "source": [
    "### Testing models"
   ]
  },
  {
   "cell_type": "code",
   "execution_count": null,
   "id": "dfe0c992-b3be-4920-8cca-287ddd702387",
   "metadata": {},
   "outputs": [],
   "source": [
    "graph_log_dir = './logs/lightning_graph_feat64_weight9_balance_real_dp3_l21e6_11180_minmax_rot3_balance_newclinical_nolrfinder_nocensor_v50'\n",
    "no_graph_log_dir = './logs/lightning_no_graph_feat64_weight7p5_balance_real_dp3_l21e6_11180_minmax_rot3_balance_newclinical_nolrfinder_nocensor_v52'\n",
    "test_pred_file = 'metric_dfs/test_predictions.pkl'\n",
    "gnn_config_file = os.path.join(graph_log_dir, 'csvlog_fold_0','lightning_logs','version_1','hparams.yaml')\n",
    "cnn_config_file = os.path.join(no_graph_log_dir, 'csvlog_fold_0','lightning_logs','version_0','hparams.yaml')\n",
    "graph_m_models = [\n",
    "    'model_m_epoch=47_val_loss=1.33_val_auc=0.74_val_m=0.75.ckpt',\n",
    "    'model_m_epoch=47_val_loss=1.24_val_auc=0.74_val_m=0.75.ckpt',\n",
    "    'model_m_epoch=56_val_loss=1.41_val_auc=0.76_val_m=0.75.ckpt',\n",
    "    'model_m_epoch=14_val_loss=1.23_val_auc=0.74_val_m=0.77.ckpt',\n",
    "    'model_m_epoch=73_val_loss=1.46_val_auc=0.77_val_m=0.81.ckpt',\n",
    "]\n",
    "graph_loss_models = [\n",
    "    'model_loss_epoch=04_val_loss=1.28_val_auc=0.70_val_m=0.62.ckpt',\n",
    "    'model_loss_epoch=50_val_loss=1.12_val_auc=0.75_val_m=0.69.ckpt',\n",
    "    'model_loss_epoch=58_val_loss=1.20_val_auc=0.78_val_m=0.60.ckpt',\n",
    "    'model_loss_epoch=14_val_loss=1.23_val_auc=0.74_val_m=0.77.ckpt',\n",
    "    'model_loss_epoch=58_val_loss=1.41_val_auc=0.75_val_m=0.72.ckpt',\n",
    "]"
   ]
  },
  {
   "cell_type": "code",
   "execution_count": null,
   "id": "425e2d8e-e9ba-4c02-8eeb-d7b667afe4af",
   "metadata": {},
   "outputs": [],
   "source": [
    "gnn_config = yaml.safe_load(open(gnn_config_file, 'r'))\n",
    "cnn_config = yaml.safe_load(open(cnn_config_file, 'r'))\n",
    "\n"
   ]
  },
  {
   "cell_type": "code",
   "execution_count": null,
   "id": "372e8a65-f29a-43dd-a3c2-ebd0fe98039a",
   "metadata": {},
   "outputs": [],
   "source": [
    "gnn_model = RunModel(config=gnn_config['config'])\n",
    "cnn_model = RunModel(config=cnn_config['config'])\n",
    "\n",
    "#gnn_model.config['remove_censored'] = False\n",
    "#cnn_model.config['remove_censored'] = False"
   ]
  },
  {
   "cell_type": "code",
   "execution_count": null,
   "id": "851c8b89-ee56-442b-bfd4-37b45c1799c4",
   "metadata": {},
   "outputs": [],
   "source": [
    "gnn_model.config['remove_censored'] = False\n",
    "gnn_model.config['remove_censored']"
   ]
  },
  {
   "cell_type": "code",
   "execution_count": null,
   "id": "f4829d83-a635-489e-9235-60429daeff2b",
   "metadata": {},
   "outputs": [],
   "source": [
    "gnn_model.set_model()\n",
    "gnn_model.set_data()\n",
    "gnn_model.set_train_test_split_challenge()\n",
    "gnn_model.set_data_module()\n",
    "gnn_model.set_callbacks(5)\n",
    "idx = 5\n",
    "gnn_model.trainer = L.Trainer(\n",
    "                max_epochs=gnn_model.config['n_epochs'],\n",
    "                accelerator=\"auto\",\n",
    "                devices=gnn_model.config['gpu_device'] if torch.cuda.is_available() else None,\n",
    "                logger=[L.loggers.CSVLogger(save_dir=os.path.join(gnn_model.log_dir, f\"csvlog_fold_{idx}\")), L.loggers.TensorBoardLogger(save_dir=os.path.join(gnn_model.log_dir, f\"tb_fold_{idx}\"))],\n",
    "                callbacks=gnn_model.callbacks,\n",
    "                #check_val_every_n_epoch = 1,\n",
    "                #auto_lr_find=True\n",
    ")"
   ]
  },
  {
   "cell_type": "code",
   "execution_count": null,
   "id": "1dc118d3-85be-46da-8274-863a6932f8f1",
   "metadata": {},
   "outputs": [],
   "source": [
    "cnn_model.set_model()\n",
    "cnn_model.set_data()\n",
    "cnn_model.set_train_test_split_challenge()\n",
    "cnn_model.set_data_module()\n",
    "cnn_model.set_callbacks(5)\n",
    "idx = 5\n",
    "cnn_model.trainer = L.Trainer(\n",
    "                max_epochs=cnn_model.config['n_epochs'],\n",
    "                accelerator=\"auto\",\n",
    "                devices=cnn_model.config['gpu_device'] if torch.cuda.is_available() else None,\n",
    "                logger=[L.loggers.CSVLogger(save_dir=os.path.join(cnn_model.log_dir, f\"csvlog_fold_{idx}\")), L.loggers.TensorBoardLogger(save_dir=os.path.join(cnn_model.log_dir, f\"tb_fold_{idx}\"))],\n",
    "                callbacks=cnn_model.callbacks,\n",
    "                #check_val_every_n_epoch = 1,\n",
    "                #auto_lr_find=True\n",
    ")"
   ]
  },
  {
   "cell_type": "code",
   "execution_count": null,
   "id": "e07b67b4-8f71-4c1f-bfcf-800b1452d69f",
   "metadata": {},
   "outputs": [],
   "source": [
    "model_idx = 0\n",
    "gnn_model.trainer.test(gnn_model.model,\n",
    "                       datamodule=gnn_model.data_module_cross_val[model_idx], \n",
    "                       ckpt_path=os.path.join(graph_log_dir, \n",
    "                                              f\"top_models_fold_{model_idx}\", \n",
    "                                              graph_loss_models[model_idx])\n",
    "                      )"
   ]
  },
  {
   "cell_type": "code",
   "execution_count": null,
   "id": "b5d40a1c-c338-4a04-9fa5-4dfd83321580",
   "metadata": {},
   "outputs": [],
   "source": [
    "model_idx = 0\n",
    "cnn_model.trainer.test(cnn_model.model,\n",
    "                       datamodule=cnn_model.data_module_cross_val[model_idx], \n",
    "                       ckpt_path=os.path.join(graph_log_dir, \n",
    "                                              f\"top_models_fold_{model_idx}\", \n",
    "                                              graph_loss_models[model_idx])\n",
    "                      )"
   ]
  },
  {
   "cell_type": "code",
   "execution_count": null,
   "id": "1b8e4c3a-ce7b-4bc2-8d8d-5d6985dc7e41",
   "metadata": {},
   "outputs": [],
   "source": [
    "model_idx = 0\n",
    "test_pred = gnn_model.trainer.predict(gnn_model.model,\n",
    "                       gnn_model.data_module_cross_val[model_idx].test_dataloader(), \n",
    "                       ckpt_path=os.path.join(graph_log_dir, \n",
    "                                              f\"top_models_fold_{model_idx}\", \n",
    "                                              graph_loss_models[model_idx])\n",
    "                      )"
   ]
  },
  {
   "cell_type": "code",
   "execution_count": null,
   "id": "65c8cd94-eb31-42fa-8b74-dcac4526dda1",
   "metadata": {},
   "outputs": [],
   "source": [
    "model_idx = 0\n",
    "test_pred = cnn_model.trainer.predict(cnn_model.model,\n",
    "                       cnn_model.data_module_cross_val[model_idx].test_dataloader(), \n",
    "                       ckpt_path=os.path.join(graph_log_dir, \n",
    "                                              f\"top_models_fold_{model_idx}\", \n",
    "                                              graph_loss_models[model_idx])\n",
    "                      )"
   ]
  },
  {
   "cell_type": "code",
   "execution_count": null,
   "id": "41a32cfa-4fb1-4352-9ea4-882a49c80c60",
   "metadata": {},
   "outputs": [],
   "source": [
    "tmp_gnn_test_targets = []\n",
    "for batch in gnn_model.data_module_cross_val[model_idx].test_dataloader():\n",
    "    tmp_test_targets.append(batch.y)"
   ]
  },
  {
   "cell_type": "code",
   "execution_count": null,
   "id": "40bbdefb-8610-4aa9-8f7f-b948d39f1cce",
   "metadata": {},
   "outputs": [],
   "source": [
    "auc_fn.update(torch.cat(gnn_model.model.test_preds).to('cpu'), torch.cat(gnn_model.model.test_targets).to('cpu'))\n",
    "auc_fn.compute()"
   ]
  },
  {
   "cell_type": "code",
   "execution_count": null,
   "id": "90608381-b75f-49e4-b9e4-4eb4cd6477ae",
   "metadata": {},
   "outputs": [],
   "source": [
    "auc_fn.reset()\n",
    "for idx in range(len(tmp_test_targets)):\n",
    "    auc_fn.update(test_pred[idx], tmp_test_targets[idx])\n",
    "\n",
    "auc_fn.compute()"
   ]
  },
  {
   "cell_type": "code",
   "execution_count": null,
   "id": "e3043a1f-cdf8-4995-88a7-a276c3340849",
   "metadata": {},
   "outputs": [],
   "source": [
    "auc_fn.reset()\n",
    "auc_fn.update(torch.cat(test_pred), torch.cat(tmp_test_targets))\n",
    "auc_fn.compute()"
   ]
  },
  {
   "cell_type": "code",
   "execution_count": null,
   "id": "f9e14fde-8b4f-4916-a56b-094adc822e99",
   "metadata": {},
   "outputs": [],
   "source": [
    "auc_fn.reset()\n",
    "auc_fn(torch.cat(test_pred), torch.cat(tmp_test_targets))"
   ]
  },
  {
   "cell_type": "code",
   "execution_count": null,
   "id": "8e27c7f5-8fbb-47d4-91ca-c6dd7c2fab7a",
   "metadata": {},
   "outputs": [],
   "source": [
    "gnn_model.model.test_targets"
   ]
  },
  {
   "cell_type": "code",
   "execution_count": null,
   "id": "12963c0e-8fa6-4d89-8c88-5f7c5b9dab9c",
   "metadata": {},
   "outputs": [],
   "source": [
    "torch.cat(test_pred) == torch.cat(gnn_model.model.test_preds).to('cpu')"
   ]
  },
  {
   "cell_type": "code",
   "execution_count": null,
   "id": "164e6b73-e60f-454b-93e4-11555144f524",
   "metadata": {},
   "outputs": [],
   "source": [
    "sklearn.metrics.roc_auc_score(torch.cat(tmp_test_targets), torch.cat(test_pred))"
   ]
  },
  {
   "cell_type": "markdown",
   "id": "6f0664ee-3056-4cbe-86c0-f14f044957f5",
   "metadata": {},
   "source": [
    "### R testing"
   ]
  },
  {
   "cell_type": "code",
   "execution_count": null,
   "id": "fd1bd8bb-e466-43cf-8f88-919360075fb7",
   "metadata": {},
   "outputs": [],
   "source": [
    "model_1 = 'lightning_gtvp_rad_image_vit_linear_nomask_nopool_weight7_22_dp2_v114'\n",
    "model_2 = 'lightning_gtvp_image_vit_linear_nomask_nopool_weight7_22_dp2_v114'\n",
    "model_3 = 'lightning_gtvp_foundation_image_vit_linear_nomask_nopool_weight7_22_dp2_v115' \n",
    "model_4 = 'lightning_gtvp_rad_foundation_image_vit_linear_nomask_nopool_weight7_22_dp2_v116'\n",
    "model_5 = 'lightning_gtvp_image_vit_linear_mask_nopool_weight7_22_dp2_v120'\n",
    "model_6 = 'lightning_gtvp_rad_image_vit_linear_mask_nopool_weight7_22_dp2_v121'\n",
    "model_7 = 'lightning_gtvp_foundation_image_vit_linear_mask_nopool_weight7_22_dp2_v122'\n",
    "model_8 = 'lightning_gtvp_rad_foundation_image_vit_linear_mask_nopool_weight7_22_dp2_v123'\n",
    "model_9 = 'lightning_gtvp_rad_linear_mask_nopool_weight7_22_dp2_v123'\n",
    "model_10 = 'lightning_gtvp_foundation_linear_mask_nopool_weight7_22_dp2_v124'\n",
    "model_11 = 'foundation_rad_avg'\n",
    "model_12 = 'foundation_image_avg'\n",
    "model_13 = 'rad_image_avg'\n",
    "model_14 = 'foundation_rad_image_avg'\n",
    "model_15 = 'lightning_gtvp_image_spottune_nograph_nopool_weight7_22_dp2_v143'"
   ]
  },
  {
   "cell_type": "code",
   "execution_count": null,
   "id": "18f752fb-298e-4737-8fbb-a6b8f6399dae",
   "metadata": {},
   "outputs": [],
   "source": [
    "from rpy2.robjects.packages import importr\n",
    "import rpy2.robjects.lib.ggplot2 as gp\n",
    "import rpy2.robjects as ro\n",
    "from rpy2.robjects import numpy2ri, default_converter, pandas2ri, r\n",
    "\n",
    "utils = importr('utils')\n",
    "base = importr('base')\n",
    "np_cv_rules = default_converter + numpy2ri.converter\n",
    "numpy2ri.activate()\n",
    "pandas2ri.activate()\n",
    "utils.chooseCRANmirror(ind=1)\n",
    "\n",
    "utils.install_packages('stats')\n",
    "utils.install_packages('pROC')\n",
    "\n",
    "proc = importr('pROC')\n",
    "stats = importr('stats')"
   ]
  },
  {
   "cell_type": "code",
   "execution_count": null,
   "id": "e51eec6c-5ffb-47cb-be83-321ba2bebe63",
   "metadata": {},
   "outputs": [],
   "source": [
    "roc_foundation = proc.roc(targets.numpy(),pred_dict[model_10])\n",
    "roc_rad = proc.roc(targets.numpy(), pred_dict[model_9])\n",
    "roc_image = proc.roc(targets.numpy(), pred_dict[model_5])\n",
    "roc_rad_image = proc.roc(targets.numpy(), pred_dict[model_6])\n",
    "roc_spottune = proc.roc(targets.numpy(), pred_dict[model_15])\n",
    "test1 = proc.roc_test(roc_foundation, roc_rad, method='delong', alternative='greater')\n",
    "test2 = proc.roc_test(roc_foundation, roc_image, method='delong', alternative='greater')\n",
    "test3 = proc.roc_test(roc_rad, roc_image, method='delong', alternative='greater')\n",
    "test4 = proc.roc_test(roc_foundation, roc_rad_image, method='delong', alternative='greater')\n",
    "test5 = proc.roc_test(roc_rad_image, roc_image, method='delong', alternative='greater')\n",
    "test6 = proc.roc_test(roc_rad_image, roc_rad, method='delong', alternative='greater')\n",
    "#test7 = proc.roc_test(roc_foundation, roc_spottune, method='delong', alternative='greater')\n",
    "test7 = proc.roc_test(roc_image, roc_spottune, method='delong', alternative='greater')\n",
    "print(test1[7])\n",
    "print(test2[7])\n",
    "print(test3[7])\n",
    "print(test4[7])\n",
    "print(test5[7])\n",
    "print(test7[7])\n",
    "p_list = []\n",
    "p_list.extend(test1[7])\n",
    "p_list.extend(test2[7])\n",
    "p_list.extend(test3[7])\n",
    "p_list.extend(test4[7])\n",
    "#p_list.extend(test5[7])\n",
    "#p_list.extend(test6[7])"
   ]
  },
  {
   "cell_type": "code",
   "execution_count": null,
   "id": "cf096157-a579-4d5f-9ce2-d09782fc22ca",
   "metadata": {},
   "outputs": [],
   "source": [
    "stats.p_adjust(p_list, method='fdr')"
   ]
  },
  {
   "cell_type": "code",
   "execution_count": null,
   "id": "fde9e409-6f0f-4d59-a939-84f9afe29b65",
   "metadata": {},
   "outputs": [],
   "source": [
    "test7"
   ]
  },
  {
   "cell_type": "code",
   "execution_count": null,
   "id": "1341c0df-ef03-499c-9767-462cc0bb105b",
   "metadata": {},
   "outputs": [],
   "source": [
    "proc.auc(roc2)"
   ]
  },
  {
   "cell_type": "code",
   "execution_count": null,
   "id": "7f8ab123-3532-4a45-92f2-dca37d75b44d",
   "metadata": {},
   "outputs": [],
   "source": [
    "print(proc.ci(roc_foundation))\n",
    "print(proc.ci(roc_rad))\n",
    "print(proc.ci(roc_image))\n",
    "print(proc.ci(roc_rad_image))"
   ]
  },
  {
   "cell_type": "code",
   "execution_count": null,
   "id": "572f6bc3-4d59-4971-8fdd-f2c351446663",
   "metadata": {},
   "outputs": [],
   "source": [
    "p_values = []\n",
    "for idx in range(1,10+1):\n",
    "    for jdx in range(1,10+1):\n",
    "        if idx == jdx: continue\n",
    "        print(globals().get(f'model_{idx}'), globals().get(f'model_{jdx}'))   \n",
    "        roc1 = proc.roc(targets.numpy(),pred_dict[globals().get(f'model_{idx}')])\n",
    "        roc2 = proc.roc(targets.numpy(), pred_dict[globals().get(f'model_{jdx}')])\n",
    "        auc1 = proc.auc(roc1)\n",
    "        auc2 = proc.auc(roc2)\n",
    "        if auc1 > auc2:\n",
    "            test = proc.roc_test(roc1, roc2, method='delong', alternative='greater')\n",
    "        elif auc2 > auc1:\n",
    "            test = proc.roc_test(roc2, roc1, method='delong', alternative='greater')\n",
    "        else:\n",
    "            test = proc.roc_test(roc1, roc2, method='delong', alternative='greater')\n",
    "            print('auc is the same')\n",
    "        print(test[7])\n",
    "        p_values.append((globals().get(f'model_{idx}'), globals().get(f'model_{jdx}'), test[7], auc1, auc2))"
   ]
  },
  {
   "cell_type": "code",
   "execution_count": null,
   "id": "bf6e17a4-ef45-4da4-ab8d-088ca0033275",
   "metadata": {},
   "outputs": [],
   "source": [
    "p_values_df = pd.DataFrame(p_values)"
   ]
  },
  {
   "cell_type": "code",
   "execution_count": null,
   "id": "159ab728-7590-40a3-9e97-53c54d86af40",
   "metadata": {},
   "outputs": [],
   "source": [
    "p_values_unique_df = p_values_df[~p_values_df.duplicated(subset=[2])]"
   ]
  },
  {
   "cell_type": "code",
   "execution_count": null,
   "id": "f6109bcb-2636-4b7a-9764-431352a35ec5",
   "metadata": {},
   "outputs": [],
   "source": [
    "p_values_unique_df"
   ]
  },
  {
   "cell_type": "code",
   "execution_count": null,
   "id": "f1fca933-192f-45bb-961a-20ce9d980625",
   "metadata": {},
   "outputs": [],
   "source": [
    "test_str = p_values_unique_df[0][0].split('_')"
   ]
  },
  {
   "cell_type": "code",
   "execution_count": null,
   "id": "5bf71e10-f9ae-4040-b4cf-41230a2feae6",
   "metadata": {},
   "outputs": [],
   "source": [
    "map = [\n",
    "    'rad',\n",
    "    'foundation',\n",
    "    'image',\n",
    "    'mask',\n",
    "    'nomask',\n",
    "]\n",
    "\n",
    "'_'.join([sub_str for sub_str in test_str if sub_str in map])"
   ]
  },
  {
   "cell_type": "code",
   "execution_count": null,
   "id": "da205e6d-1410-46c3-8870-3047f9d1ed3f",
   "metadata": {},
   "outputs": [],
   "source": [
    "for idx in [0,1]:\n",
    "    p_values_unique_df[idx] = ['_'.join([sub_string for sub_string in string.split('_') if sub_string in map]) for string in p_values_unique_df[idx]]"
   ]
  },
  {
   "cell_type": "code",
   "execution_count": null,
   "id": "ea46b7eb-3068-4065-8446-610d17671b65",
   "metadata": {},
   "outputs": [],
   "source": [
    "p_values_unique_df.rename(columns={0: 'roc1', 1: 'roc2', 2: 'p-value', 3: 'auc1', 4: 'auc2'}, inplace=True)"
   ]
  },
  {
   "cell_type": "code",
   "execution_count": null,
   "id": "b96e9ec8-679f-4c28-9c52-6ced218a12a3",
   "metadata": {},
   "outputs": [],
   "source": [
    "p_values_unique_df[p_values_unique_df['roc1'] == 'rad_image_mask']"
   ]
  }
 ],
 "metadata": {
  "kernelspec": {
   "display_name": "pytorch_gpu_v2",
   "language": "python",
   "name": "pytorch_gpu_v2"
  },
  "language_info": {
   "codemirror_mode": {
    "name": "ipython",
    "version": 3
   },
   "file_extension": ".py",
   "mimetype": "text/x-python",
   "name": "python",
   "nbconvert_exporter": "python",
   "pygments_lexer": "ipython3",
   "version": "3.9.18"
  }
 },
 "nbformat": 4,
 "nbformat_minor": 5
}
