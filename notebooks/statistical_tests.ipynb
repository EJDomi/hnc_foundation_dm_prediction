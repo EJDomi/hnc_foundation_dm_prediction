{
 "cells": [
  {
   "cell_type": "code",
   "execution_count": null,
   "id": "67e671e0-1c43-44dd-867e-cdad62ba0082",
   "metadata": {},
   "outputs": [],
   "source": [
    "import os, datetime\n",
    "from pathlib import Path\n",
    "import yaml\n",
    "import numpy as np\n",
    "import pandas as pd\n",
    "import torch\n",
    "import scipy\n",
    "import sklearn\n",
    "import matplotlib.pyplot as plt\n",
    "from matplotlib.backends.backend_pdf import PdfPages\n",
    "import scikit_posthocs as sp\n",
    "import torchmetrics\n",
    "import pytorch_lightning as L\n",
    "from hnc_project import data_prep as dp\n",
    "from hnc_project.pytorch.run_model_lightning import RunModel\n",
    "from hnc_project.pytorch.user_metrics import MMetric"
   ]
  },
  {
   "cell_type": "code",
   "execution_count": null,
   "id": "b9404dec-0a90-4c39-ba5b-201577d99144",
   "metadata": {},
   "outputs": [],
   "source": [
    "no_graph_log_dir = './logs/lightning_no_graph_feat64_true_weight3_balance_real_dp3_l21e6_11180_minmax_rot3_balance_newclinical_nolrfinder_nocensor_v54'\n",
    "#graph_log_dir = './logs/lightning_graph_feat64_true_weight3_balance_real_dp3_l21e6_11180_minmax_rot3_balance_newclinical_nolrfinder_nocensor_v55'\n",
    "graph_log_dir = './logs/lightning_undirected_edge_graph_feat64_true_weight3_balance_real_dp3_l21e6_11180_minmax_rot3_balance_newclinical_nolrfinder_nocensor_v56'\n",
    "#graph_log_dir = './logs/lightning_reverse_edge_graph_feat64_true_weight3_balance_real_dp3_l21e6_11180_minmax_rot3_balance_newclinical_nolrfinder_nocensor_v56'\n",
    "test_pred_file = 'metric_dfs/test_predictions.pkl'\n",
    "val_pred_file = 'metric_dfs/val_predictions.pkl'\n",
    "m_fn = MMetric(0.6, 0.4)"
   ]
  },
  {
   "cell_type": "code",
   "execution_count": null,
   "id": "8477224b-60b6-4e52-b6f2-2a7d9915546d",
   "metadata": {},
   "outputs": [],
   "source": [
    "test_graph_pred = pd.read_pickle(os.path.join(graph_log_dir, test_pred_file))\n",
    "test_no_graph_pred = pd.read_pickle(os.path.join(no_graph_log_dir, test_pred_file))\n",
    "val_graph_pred = pd.read_pickle(os.path.join(graph_log_dir, val_pred_file))\n",
    "val_no_graph_pred = pd.read_pickle(os.path.join(no_graph_log_dir, val_pred_file))\n"
   ]
  },
  {
   "cell_type": "code",
   "execution_count": null,
   "id": "57796499-b58e-4dd5-81a2-2efa8967cdb0",
   "metadata": {},
   "outputs": [],
   "source": [
    "test_graph_avg = []\n",
    "test_no_graph_avg = []\n",
    "test_graph_m = []\n",
    "test_no_graph_m = []\n",
    "\n",
    "for idx in range(5):\n",
    "    test_graph_avg.append(list(test_graph_pred['val_auc'][idx]))\n",
    "    test_no_graph_avg.append(list(test_no_graph_pred['val_loss'][idx]))\n",
    "    test_graph_m.append(m_fn(sen_fn(test_graph_pred['val_auc'][idx], test_graph_pred['targets'][idx]), spe_fn(test_graph_pred['val_loss'][idx], test_graph_pred['targets'][idx])))\n",
    "    test_no_graph_m.append(m_fn(sen_fn(test_no_graph_pred['val_loss'][idx], test_no_graph_pred['targets'][idx]), spe_fn(test_no_graph_pred['val_loss'][idx], test_no_graph_pred['targets'][idx])))\n",
    "\n",
    "test_graph_m = torch.tensor(test_graph_m)\n",
    "test_no_graph_m = torch.tensor(test_no_graph_m)\n",
    "\n",
    "test_graph_weight = test_graph_m / test_graph_m.sum()\n",
    "test_no_graph_weight = test_no_graph_m / test_no_graph_m.sum()\n",
    "test_graph_weight_update = []\n",
    "test_no_graph_weight_update = []\n",
    "for idx in range(5):\n",
    "    test_graph_weight_update.append([test_graph_weight[idx]] * len(test_graph_pred['targets'][0]))\n",
    "    test_no_graph_weight_update.append([test_no_graph_weight[idx]] * len(test_no_graph_pred['targets'][0]))\n"
   ]
  },
  {
   "cell_type": "code",
   "execution_count": null,
   "id": "98ed26e1-24ed-4156-a4c4-ac597323705d",
   "metadata": {},
   "outputs": [],
   "source": [
    "test_graph_avg = np.average(test_graph_avg, axis=0, weights=test_graph_weight_update)    \n",
    "test_no_graph_avg = np.average(test_no_graph_avg, axis=0, weights=test_no_graph_weight_update)    "
   ]
  },
  {
   "cell_type": "code",
   "execution_count": null,
   "id": "06eeca25-7489-4df9-b54c-d8bef15c5f11",
   "metadata": {},
   "outputs": [],
   "source": [
    "t, p = scipy.stats.ttest_rel(test_graph_avg, test_no_graph_avg)\n",
    "print(p)"
   ]
  },
  {
   "cell_type": "code",
   "execution_count": null,
   "id": "b4d0e507-f208-4920-8448-6505ddddb78f",
   "metadata": {},
   "outputs": [],
   "source": [
    "for idx in range(5):\n",
    "    t1, p1 = scipy.stats.ttest_rel(val_graph_pred['val_auc'][idx], val_no_graph_pred['val_m'][idx])\n",
    "    t2, p2 = scipy.stats.ttest_rel(test_graph_pred['val_auc'][idx], test_no_graph_pred['val_m'][idx])\n",
    "    print(p1, p2)"
   ]
  },
  {
   "cell_type": "code",
   "execution_count": null,
   "id": "650a0a1a-77d4-454b-9ca1-abb6ac49b01d",
   "metadata": {},
   "outputs": [],
   "source": [
    "# all of the metrics used in the evaluation, can add or remove as desired\n",
    "auc_fn = torchmetrics.classification.BinaryAUROC()\n",
    "ap_fn = torchmetrics.classification.BinaryAveragePrecision()\n",
    "spe_fn = torchmetrics.classification.BinarySpecificity()\n",
    "sen_fn = torchmetrics.classification.BinaryRecall()\n",
    "\n",
    "roc_fn = torchmetrics.classification.BinaryROC()\n",
    "pr_fn = torchmetrics.classification.BinaryPrecisionRecallCurve()"
   ]
  },
  {
   "cell_type": "code",
   "execution_count": null,
   "id": "03d7d625-ceda-4ece-acce-6780cde40a84",
   "metadata": {},
   "outputs": [],
   "source": [
    "# resets metric functions, should be run for each successive evaluation of probabilities as values entered into functions are persistent until reset\n",
    "auc_fn.reset()\n",
    "ap_fn.reset()\n",
    "spe_fn.reset()\n",
    "sen_fn.reset()\n",
    "roc_fn.reset()\n",
    "pr_fn.reset()"
   ]
  },
  {
   "cell_type": "code",
   "execution_count": null,
   "id": "9d25b5f2-2024-4ca1-b80d-6d061341c459",
   "metadata": {},
   "outputs": [],
   "source": [
    "graph_auc = auc_fn(torch.tensor(test_graph_avg), test_graph_pred['targets'][0])\n",
    "no_graph_auc = auc_fn(torch.tensor(test_no_graph_avg), test_no_graph_pred['targets'][0])\n",
    "graph_ap = ap_fn(torch.tensor(test_graph_avg), test_graph_pred['targets'][0].to(torch.long))\n",
    "no_graph_ap = ap_fn(torch.tensor(test_no_graph_avg), test_no_graph_pred['targets'][0].to(torch.long))\n",
    "graph_sen = sen_fn(torch.tensor(test_graph_avg), test_graph_pred['targets'][0])\n",
    "no_graph_sen = sen_fn(torch.tensor(test_no_graph_avg), test_no_graph_pred['targets'][0])\n",
    "graph_spe = spe_fn(torch.tensor(test_graph_avg), test_graph_pred['targets'][0])\n",
    "no_graph_spe = spe_fn(torch.tensor(test_no_graph_avg), test_no_graph_pred['targets'][0])\n",
    "print('auc:', graph_auc, no_graph_auc)\n",
    "print('ap:', graph_ap, no_graph_ap)\n",
    "print('sen:', graph_sen, no_graph_sen)\n",
    "print('spe:', graph_spe, no_graph_spe)"
   ]
  },
  {
   "cell_type": "code",
   "execution_count": null,
   "id": "137ccede-df88-4055-928f-fafb797f83e5",
   "metadata": {},
   "outputs": [],
   "source": [
    "auc_fn.reset()\n",
    "auc_fn.update(torch.tensor(test_graph_avg), test_graph_pred['targets'][0])\n",
    "graph_auc = auc_fn.compute()\n",
    "auc_fn.reset()\n",
    "auc_fn.update(torch.tensor(test_no_graph_avg), test_no_graph_pred['targets'][0])\n",
    "no_graph_auc = auc_fn.compute()\n",
    "\n",
    "ap_fn.reset()\n",
    "ap_fn.update(torch.tensor(test_graph_avg), test_graph_pred['targets'][0].to(torch.long))\n",
    "graph_ap = ap_fn.compute()\n",
    "ap_fn.reset()\n",
    "ap_fn.update(torch.tensor(test_no_graph_avg), test_no_graph_pred['targets'][0].to(torch.long))\n",
    "no_graph_ap = ap_fn.compute()\n",
    "\n",
    "sen_fn.reset()\n",
    "sen_fn.update(torch.tensor(test_graph_avg), test_graph_pred['targets'][0])\n",
    "graph_sen = sen_fn.compute()\n",
    "sen_fn.reset()\n",
    "sen_fn.update(torch.tensor(test_no_graph_avg), test_no_graph_pred['targets'][0])\n",
    "no_graph_sen = sen_fn.compute()\n",
    "\n",
    "spe_fn.reset()\n",
    "spe_fn.update(torch.tensor(test_graph_avg), test_graph_pred['targets'][0])\n",
    "graph_spe = spe_fn.compute()\n",
    "spe_fn.reset()\n",
    "spe_fn.update(torch.tensor(test_no_graph_avg), test_no_graph_pred['targets'][0])\n",
    "no_graph_spe = spe_fn.compute()\n",
    "\n",
    "print('auc:', graph_auc, no_graph_auc)\n",
    "print('ap:', graph_ap, no_graph_ap)\n",
    "print('sen:', graph_sen, no_graph_sen)\n",
    "print('spe:', graph_spe, no_graph_spe)"
   ]
  },
  {
   "cell_type": "code",
   "execution_count": null,
   "id": "be61e75a-ae8a-4aac-8481-a3db332e618b",
   "metadata": {},
   "outputs": [],
   "source": [
    "graph_fold_aucs = []\n",
    "no_graph_fold_aucs = []\n",
    "for idx in range(5):\n",
    "    graph_fold_aucs.append(auc_fn((test_graph_pred['val_auc'][idx]), test_graph_pred['targets'][0]))\n",
    "    no_graph_fold_aucs.append(auc_fn((test_no_graph_pred['val_loss'][idx]), test_no_graph_pred['targets'][0]))\n",
    "\n",
    "print((graph_fold_aucs))\n",
    "print((no_graph_fold_aucs))"
   ]
  },
  {
   "cell_type": "code",
   "execution_count": null,
   "id": "7dcf62c6-28b3-43a3-83d2-5c82e7133a2d",
   "metadata": {},
   "outputs": [],
   "source": [
    "from sklearn.metrics import RocCurveDisplay\n",
    "target = test_graph_pred['targets'][0]\n",
    "#figure = plt.figure()\n",
    "#axes = figure.add_subplot(111)\n",
    "display = RocCurveDisplay.from_predictions(target, test_graph_avg, name='CNN+GNN', plot_chance_level=True)\n",
    "RocCurveDisplay.from_predictions(target, test_no_graph_avg, name='CNN-only', plot_chance_level=False, ax=display.ax_)\n",
    "plt.grid(visible=True, which='both')\n",
    "plt.xlabel('False Positive Rate')\n",
    "plt.ylabel('True Positive Rate')\n",
    "handles, labels = plt.gca().get_legend_handles_labels()\n",
    "line_styles = ['-', '--', '-.', ':']\n",
    "for line, ls in zip(display.ax_.get_lines(), line_styles):\n",
    "    line.set_linestyle(ls)\n",
    "plt.legend([handles[idx] for idx in [0, 2, 1]], [labels[idx] for idx in [0, 2, 1]])\n",
    "display.figure_.savefig(f\"roc_curve_GNN.pdf\", dpi=600)\n",
    "plt.show()"
   ]
  },
  {
   "cell_type": "code",
   "execution_count": null,
   "id": "6faecd18-a509-4f7b-b7f5-d1bf775d78d7",
   "metadata": {},
   "outputs": [],
   "source": [
    "display.figure_.savefig(f\"roc_curve_GNN.png\", dpi=600)"
   ]
  },
  {
   "cell_type": "code",
   "execution_count": null,
   "id": "3aa1899f-b69a-4696-8308-1beb8a9525d9",
   "metadata": {},
   "outputs": [],
   "source": [
    "len(test_graph_pred['targets'][4])"
   ]
  },
  {
   "cell_type": "markdown",
   "id": "39bb8f24-5dfd-4536-9f2f-ba4474445198",
   "metadata": {},
   "source": [
    "### Testing models"
   ]
  },
  {
   "cell_type": "code",
   "execution_count": null,
   "id": "dfe0c992-b3be-4920-8cca-287ddd702387",
   "metadata": {},
   "outputs": [],
   "source": [
    "graph_log_dir = './logs/lightning_graph_feat64_weight9_balance_real_dp3_l21e6_11180_minmax_rot3_balance_newclinical_nolrfinder_nocensor_v50'\n",
    "no_graph_log_dir = './logs/lightning_no_graph_feat64_weight7p5_balance_real_dp3_l21e6_11180_minmax_rot3_balance_newclinical_nolrfinder_nocensor_v52'\n",
    "test_pred_file = 'metric_dfs/test_predictions.pkl'\n",
    "gnn_config_file = os.path.join(graph_log_dir, 'csvlog_fold_0','lightning_logs','version_1','hparams.yaml')\n",
    "cnn_config_file = os.path.join(no_graph_log_dir, 'csvlog_fold_0','lightning_logs','version_0','hparams.yaml')\n",
    "graph_m_models = [\n",
    "    'model_m_epoch=47_val_loss=1.33_val_auc=0.74_val_m=0.75.ckpt',\n",
    "    'model_m_epoch=47_val_loss=1.24_val_auc=0.74_val_m=0.75.ckpt',\n",
    "    'model_m_epoch=56_val_loss=1.41_val_auc=0.76_val_m=0.75.ckpt',\n",
    "    'model_m_epoch=14_val_loss=1.23_val_auc=0.74_val_m=0.77.ckpt',\n",
    "    'model_m_epoch=73_val_loss=1.46_val_auc=0.77_val_m=0.81.ckpt',\n",
    "]\n",
    "graph_loss_models = [\n",
    "    'model_loss_epoch=04_val_loss=1.28_val_auc=0.70_val_m=0.62.ckpt',\n",
    "    'model_loss_epoch=50_val_loss=1.12_val_auc=0.75_val_m=0.69.ckpt',\n",
    "    'model_loss_epoch=58_val_loss=1.20_val_auc=0.78_val_m=0.60.ckpt',\n",
    "    'model_loss_epoch=14_val_loss=1.23_val_auc=0.74_val_m=0.77.ckpt',\n",
    "    'model_loss_epoch=58_val_loss=1.41_val_auc=0.75_val_m=0.72.ckpt',\n",
    "]"
   ]
  },
  {
   "cell_type": "code",
   "execution_count": null,
   "id": "425e2d8e-e9ba-4c02-8eeb-d7b667afe4af",
   "metadata": {},
   "outputs": [],
   "source": [
    "gnn_config = yaml.safe_load(open(gnn_config_file, 'r'))\n",
    "cnn_config = yaml.safe_load(open(cnn_config_file, 'r'))\n",
    "\n"
   ]
  },
  {
   "cell_type": "code",
   "execution_count": null,
   "id": "372e8a65-f29a-43dd-a3c2-ebd0fe98039a",
   "metadata": {},
   "outputs": [],
   "source": [
    "gnn_model = RunModel(config=gnn_config['config'])\n",
    "cnn_model = RunModel(config=cnn_config['config'])\n",
    "\n",
    "#gnn_model.config['remove_censored'] = False\n",
    "#cnn_model.config['remove_censored'] = False"
   ]
  },
  {
   "cell_type": "code",
   "execution_count": null,
   "id": "851c8b89-ee56-442b-bfd4-37b45c1799c4",
   "metadata": {},
   "outputs": [],
   "source": [
    "gnn_model.config['remove_censored'] = False\n",
    "gnn_model.config['remove_censored']"
   ]
  },
  {
   "cell_type": "code",
   "execution_count": null,
   "id": "f4829d83-a635-489e-9235-60429daeff2b",
   "metadata": {},
   "outputs": [],
   "source": [
    "gnn_model.set_model()\n",
    "gnn_model.set_data()\n",
    "gnn_model.set_train_test_split_challenge()\n",
    "gnn_model.set_data_module()\n",
    "gnn_model.set_callbacks(5)\n",
    "idx = 5\n",
    "gnn_model.trainer = L.Trainer(\n",
    "                max_epochs=gnn_model.config['n_epochs'],\n",
    "                accelerator=\"auto\",\n",
    "                devices=gnn_model.config['gpu_device'] if torch.cuda.is_available() else None,\n",
    "                logger=[L.loggers.CSVLogger(save_dir=os.path.join(gnn_model.log_dir, f\"csvlog_fold_{idx}\")), L.loggers.TensorBoardLogger(save_dir=os.path.join(gnn_model.log_dir, f\"tb_fold_{idx}\"))],\n",
    "                callbacks=gnn_model.callbacks,\n",
    "                #check_val_every_n_epoch = 1,\n",
    "                #auto_lr_find=True\n",
    ")"
   ]
  },
  {
   "cell_type": "code",
   "execution_count": null,
   "id": "1dc118d3-85be-46da-8274-863a6932f8f1",
   "metadata": {},
   "outputs": [],
   "source": [
    "cnn_model.set_model()\n",
    "cnn_model.set_data()\n",
    "cnn_model.set_train_test_split_challenge()\n",
    "cnn_model.set_data_module()\n",
    "cnn_model.set_callbacks(5)\n",
    "idx = 5\n",
    "cnn_model.trainer = L.Trainer(\n",
    "                max_epochs=cnn_model.config['n_epochs'],\n",
    "                accelerator=\"auto\",\n",
    "                devices=cnn_model.config['gpu_device'] if torch.cuda.is_available() else None,\n",
    "                logger=[L.loggers.CSVLogger(save_dir=os.path.join(cnn_model.log_dir, f\"csvlog_fold_{idx}\")), L.loggers.TensorBoardLogger(save_dir=os.path.join(cnn_model.log_dir, f\"tb_fold_{idx}\"))],\n",
    "                callbacks=cnn_model.callbacks,\n",
    "                #check_val_every_n_epoch = 1,\n",
    "                #auto_lr_find=True\n",
    ")"
   ]
  },
  {
   "cell_type": "code",
   "execution_count": null,
   "id": "e07b67b4-8f71-4c1f-bfcf-800b1452d69f",
   "metadata": {},
   "outputs": [],
   "source": [
    "model_idx = 0\n",
    "gnn_model.trainer.test(gnn_model.model,\n",
    "                       datamodule=gnn_model.data_module_cross_val[model_idx], \n",
    "                       ckpt_path=os.path.join(graph_log_dir, \n",
    "                                              f\"top_models_fold_{model_idx}\", \n",
    "                                              graph_loss_models[model_idx])\n",
    "                      )"
   ]
  },
  {
   "cell_type": "code",
   "execution_count": null,
   "id": "b5d40a1c-c338-4a04-9fa5-4dfd83321580",
   "metadata": {},
   "outputs": [],
   "source": [
    "model_idx = 0\n",
    "cnn_model.trainer.test(cnn_model.model,\n",
    "                       datamodule=cnn_model.data_module_cross_val[model_idx], \n",
    "                       ckpt_path=os.path.join(graph_log_dir, \n",
    "                                              f\"top_models_fold_{model_idx}\", \n",
    "                                              graph_loss_models[model_idx])\n",
    "                      )"
   ]
  },
  {
   "cell_type": "code",
   "execution_count": null,
   "id": "1b8e4c3a-ce7b-4bc2-8d8d-5d6985dc7e41",
   "metadata": {},
   "outputs": [],
   "source": [
    "model_idx = 0\n",
    "test_pred = gnn_model.trainer.predict(gnn_model.model,\n",
    "                       gnn_model.data_module_cross_val[model_idx].test_dataloader(), \n",
    "                       ckpt_path=os.path.join(graph_log_dir, \n",
    "                                              f\"top_models_fold_{model_idx}\", \n",
    "                                              graph_loss_models[model_idx])\n",
    "                      )"
   ]
  },
  {
   "cell_type": "code",
   "execution_count": null,
   "id": "65c8cd94-eb31-42fa-8b74-dcac4526dda1",
   "metadata": {},
   "outputs": [],
   "source": [
    "model_idx = 0\n",
    "test_pred = cnn_model.trainer.predict(cnn_model.model,\n",
    "                       cnn_model.data_module_cross_val[model_idx].test_dataloader(), \n",
    "                       ckpt_path=os.path.join(graph_log_dir, \n",
    "                                              f\"top_models_fold_{model_idx}\", \n",
    "                                              graph_loss_models[model_idx])\n",
    "                      )"
   ]
  },
  {
   "cell_type": "code",
   "execution_count": null,
   "id": "41a32cfa-4fb1-4352-9ea4-882a49c80c60",
   "metadata": {},
   "outputs": [],
   "source": [
    "tmp_gnn_test_targets = []\n",
    "for batch in gnn_model.data_module_cross_val[model_idx].test_dataloader():\n",
    "    tmp_test_targets.append(batch.y)"
   ]
  },
  {
   "cell_type": "code",
   "execution_count": null,
   "id": "40bbdefb-8610-4aa9-8f7f-b948d39f1cce",
   "metadata": {},
   "outputs": [],
   "source": [
    "auc_fn.update(torch.cat(gnn_model.model.test_preds).to('cpu'), torch.cat(gnn_model.model.test_targets).to('cpu'))\n",
    "auc_fn.compute()"
   ]
  },
  {
   "cell_type": "code",
   "execution_count": null,
   "id": "90608381-b75f-49e4-b9e4-4eb4cd6477ae",
   "metadata": {},
   "outputs": [],
   "source": [
    "auc_fn.reset()\n",
    "for idx in range(len(tmp_test_targets)):\n",
    "    auc_fn.update(test_pred[idx], tmp_test_targets[idx])\n",
    "\n",
    "auc_fn.compute()"
   ]
  },
  {
   "cell_type": "code",
   "execution_count": null,
   "id": "e3043a1f-cdf8-4995-88a7-a276c3340849",
   "metadata": {},
   "outputs": [],
   "source": [
    "auc_fn.reset()\n",
    "auc_fn.update(torch.cat(test_pred), torch.cat(tmp_test_targets))\n",
    "auc_fn.compute()"
   ]
  },
  {
   "cell_type": "code",
   "execution_count": null,
   "id": "f9e14fde-8b4f-4916-a56b-094adc822e99",
   "metadata": {},
   "outputs": [],
   "source": [
    "auc_fn.reset()\n",
    "auc_fn(torch.cat(test_pred), torch.cat(tmp_test_targets))"
   ]
  },
  {
   "cell_type": "code",
   "execution_count": null,
   "id": "8e27c7f5-8fbb-47d4-91ca-c6dd7c2fab7a",
   "metadata": {},
   "outputs": [],
   "source": [
    "gnn_model.model.test_targets"
   ]
  },
  {
   "cell_type": "code",
   "execution_count": null,
   "id": "12963c0e-8fa6-4d89-8c88-5f7c5b9dab9c",
   "metadata": {},
   "outputs": [],
   "source": [
    "torch.cat(test_pred) == torch.cat(gnn_model.model.test_preds).to('cpu')"
   ]
  },
  {
   "cell_type": "code",
   "execution_count": null,
   "id": "164e6b73-e60f-454b-93e4-11555144f524",
   "metadata": {},
   "outputs": [],
   "source": [
    "sklearn.metrics.roc_auc_score(torch.cat(tmp_test_targets), torch.cat(test_pred))"
   ]
  }
 ],
 "metadata": {
  "kernelspec": {
   "display_name": "pytorch_gpu_v2",
   "language": "python",
   "name": "pytorch_gpu_v2"
  },
  "language_info": {
   "codemirror_mode": {
    "name": "ipython",
    "version": 3
   },
   "file_extension": ".py",
   "mimetype": "text/x-python",
   "name": "python",
   "nbconvert_exporter": "python",
   "pygments_lexer": "ipython3",
   "version": "3.9.18"
  }
 },
 "nbformat": 4,
 "nbformat_minor": 5
}
