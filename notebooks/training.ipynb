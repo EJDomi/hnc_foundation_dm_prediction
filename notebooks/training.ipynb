{
 "cells": [
  {
   "cell_type": "code",
   "execution_count": null,
   "id": "d9de7e84-a82d-4d47-aea8-44319961e255",
   "metadata": {},
   "outputs": [],
   "source": [
    "%load_ext autoreload\n",
    "%autoreload 2\n",
    "#%matplotlib widget\n",
    "#%matplotlib ipympl\n",
    "\n",
    "#%reload_ext tensorboard\n",
    "#%matplotlib qt"
   ]
  },
  {
   "cell_type": "code",
   "execution_count": null,
   "id": "5236053e-dda7-4530-9cad-2f710a1b3968",
   "metadata": {},
   "outputs": [],
   "source": [
    "import numpy as np\n",
    "import pandas as pd\n",
    "\n",
    "from torchinfo import summary\n",
    "#from torch_geometric.nn import summary\n",
    "import torch_geometric.transforms as T\n",
    "import torch\n",
    "\n",
    "from hnc_foundation_dm_prediction.pytorch.run_model_torch import RunModel\n",
    "from hnc_foundation_dm_prediction.pytorch.resnet import resnet50\n",
    "from hnc_foundation_dm_prediction.pytorch import resnet_gcn as rgc"
   ]
  },
  {
   "cell_type": "code",
   "execution_count": null,
   "id": "316d7cd1-f287-47ec-b336-fbb6bddc2e04",
   "metadata": {},
   "outputs": [],
   "source": [
    "from hnc_foundation_dm_prediction.pytorch.gen_params_torch_cfg import model_config\n",
    "model_config['batch_size'] = 12\n",
    "model_config['dropout'] = 0.5\n",
    "model_config['n_epochs'] = 200\n",
    "model_config['learning_rate'] = 1e-3\n",
    "model_config['lr_patience'] = 10\n",
    "model_config['lr_factor'] = 0.1\n",
    "model_config['l2_reg'] = 1e-6\n",
    "model_config['n_channels'] = 1\n",
    "#model_config['data_type'] = 'image'\n",
    "#model_config['model_name'] = 'DeepGCN'\n",
    "#model_config['model_name'] = 'EmptyNetwork'\n",
    "model_config['model_name'] = 'ResNet50'\n",
    "#model_config['model_name'] = 'GraphAgResNet'\n",
    "#model_config['model_name'] = 'GatedGCN'\n",
    "model_config['extractor_name'] = 'None'\n",
    "#model_config['extractor_name'] = 'resnet50'\n",
    "#model_config['extractor_name'] = 'DenseNet'\n",
    "model_config['with_edge_attr'] = False\n",
    "model_config['use_clinical'] = True\n",
    "model_config['edge_dim'] = 1\n",
    "model_config['scaling_type'] = 'MinMax'\n",
    "model_config['cross_val'] = True\n",
    "model_config['nested_cross_val'] = False\n",
    "model_config['num_deep_layers'] = 28\n",
    "model_config['augment'] = True\n",
    "model_config['augments'] = [\n",
    "                            'rotation',\n",
    "                           ]\n",
    "model_config['n_rotations'] = 10\n",
    "model_config['balance_classes'] = False\n",
    "model_config['class_weights'] = 1.\n",
    "model_config['extractor_channels'] = 64\n",
    "model_config['n_hidden_channels'] = 64\n",
    "#model_config['log_dir'] = 'testing_radcure_deepGCN_resnet50_z_score_v6'\n",
    "model_config['transfer'] = None\n",
    "# v1 is 29, v2 is 32, v3 is 22, v4 is 28, v5 is 8, v7 is 28, v8 is 22, v9 is 18\n",
    "model_config['clinical_data'] = 'clinical_features_v10.pkl'\n",
    "model_config['n_clinical'] = 15\n",
    "model_config['dataset_name'] = 'RADCURE'\n",
    "model_config['challenge'] = True\n",
    "model_config['preset_folds'] = False\n",
    "model_config['preset_fold_file'] = 'preset_folds_wGTVp.pkl'\n",
    "model_config['save_top_k'] = 1\n",
    "model_config['log_dir'] = 'old_prelightning_resnet50_weight1_dp5_11150_gtvp_minmax_rot10_nobalance_newclinical_lrfinder_v22'\n",
    "#model_config['data_version'] = 'initial_rot10_30_balance_v1'\n",
    "model_config['patch_dir'] = 'Nii_111_50_50_50_Crop'\n",
    "#model_config['data_version'] = 'image_222_gtvp_radcure_minmax_rot3_ang515_nocensor'\n",
    "#model_config['data_version'] = 'image_111505050_gtvp_radcure_minmax_rot3_ang515_nocensor'\n",
    "model_config['data_version'] = 'image_11150_gtvp_radcure_minmax_rot10_ang30_perpat_newclinical'\n",
    "#model_config['data_version'] = 'image_222_graph_radcure_minmax_rot3_30_nocensor'\n"
   ]
  },
  {
   "cell_type": "code",
   "execution_count": null,
   "id": "60e45e89-e0ad-40d0-b272-5ba9a00fd290",
   "metadata": {},
   "outputs": [],
   "source": [
    "test_model = RunModel(model_config)\n",
    "#test_model.set_data(radiomics_dir=radiomics_directory, version='radiomics_edge_dist_v3')\n",
    "#test_model.set_data(patch_dir=patch_dir, version='image_edge_augment_rndf_v1')\n",
    "#test_model.set_data(patch_dir=patch_dir, version='image_edge_rotation5_v1')\n",
    "#test_model.set_data(patch_dir=patch_dir, version='image_edge_rot10_pos20')\n",
    "#test_model.set_data(patch_dir=patch_dir, version='image_edge_rot10_pos20')\n",
    "#test_model.set_data(patch_dir=patch_dir, version='image_edge_clinical_v8_rot10_pos20')\n",
    "#test_model.set_data(patch_dir=patch_dir, version='image_edge_utsw_clinical_v8_rot10_pos20')\n",
    "#test_model.set_data(version='image_edge_radcure')\n",
    "#test_model.set_data(version='image_edge_radcure_fixed_minmax')\n",
    "#test_model.set_data(version='image_edge_radcure_z_score')\n",
    "#test_model.set_data(version='image_gtvp_radcure_z_score')\n",
    "#test_model.set_data(version='image_111_gtvp_radcure_z_score')\n",
    "#test_model.set_data(version='image_111_gtvp_radcure_z_score_rot3')\n",
    "#test_model.set_data(version='image_111_gtvp_radcure_z_score_balance_rot3')\n",
    "#test_model.set_data(version='image_222_graph_radcure_minmax_balance_rot3_30_nocensor')\n",
    "#test_model.set_data(version='image_222_graph_radcure_minmax_rot3_30_nocensor')\n",
    "test_model.set_data()\n",
    "#test_model.set_data(patch_dir=patch_dir, version='leak_test_image_edge_rot10_v1')\n",
    "#test_model.set_data(version='image_15channel_edge_rot10_pos20')\n",
    "#test_model.set_data(version='clinical_v5_combined_image_no_mask_edge_rot10_pos20')\n",
    "#test_model.set_data(version='clinical_v7_rot10_pos20')\n",
    "#test_model.set_data(version='clinical_v1_rot10_pos20')\n",
    "#test_model.set_data(patch_dir=patch_dir, version='image_zeroed_edge_rot10_pos20')\n",
    "#test_model.set_data(patch_dir=patch_dir, version='image_clinical_v5_zeroed_edge_rot10_pos20')\n",
    "#test_model.set_data(patch_dir=patch_dir, version='image_full_connect_edge_rot10_pos20')\n",
    "#test_model.set_data(patch_dir=patch_dir, version='image_edge_rot10_pos20_gtvp')\n",
    "#test_model.set_train_test_split()\n",
    "test_model.set_train_test_split_challenge()\n",
    "#test_model.get_std_norm()\n",
    "#test_model.set_scaled_data(radiomics_dir=radiomics_directory, version='radiomics_edge_dist_scaled_v3')"
   ]
  },
  {
   "cell_type": "code",
   "execution_count": null,
   "id": "f11c33e8-7f8c-4251-95cd-6ac86e2453a5",
   "metadata": {},
   "outputs": [],
   "source": [
    "test_model.set_train_loader()\n",
    "test_model.set_val_loader()\n",
    "test_model.set_test_loader()\n",
    "#test_model.set_feature_extractor(transfer=model_config['transfer'])\n",
    "test_model.set_model()"
   ]
  },
  {
   "cell_type": "code",
   "execution_count": null,
   "id": "1cf61c7e-1f8a-4487-a35f-d8029e164e3d",
   "metadata": {},
   "outputs": [],
   "source": [
    "#%%capture output\n",
    "#test_model.set_loss_fn()\n",
    "#test_model.run()\n",
    "results = test_model.run_crossval()\n",
    "#results = test_model.run_nested_crossval()\n",
    "print(results[1])\n",
    "print(results[2])\n",
    "print('############################################')\n",
    "print('############################################')\n",
    "print('############################################')\n",
    "print('############################################')\n",
    "print('############################################')\n",
    "print('############################################')"
   ]
  },
  {
   "cell_type": "code",
   "execution_count": null,
   "id": "e2d0d17b-e26a-4546-882c-b0a47116a0fa",
   "metadata": {},
   "outputs": [],
   "source": [
    "results"
   ]
  }
 ],
 "metadata": {
  "kernelspec": {
   "display_name": "pytorch_gpu_v2",
   "language": "python",
   "name": "pytorch_gpu_v2"
  },
  "language_info": {
   "codemirror_mode": {
    "name": "ipython",
    "version": 3
   },
   "file_extension": ".py",
   "mimetype": "text/x-python",
   "name": "python",
   "nbconvert_exporter": "python",
   "pygments_lexer": "ipython3",
   "version": "3.9.18"
  }
 },
 "nbformat": 4,
 "nbformat_minor": 5
}
