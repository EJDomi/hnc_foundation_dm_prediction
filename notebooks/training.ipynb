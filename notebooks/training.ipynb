{
 "cells": [
  {
   "cell_type": "code",
   "execution_count": 1,
   "id": "d9de7e84-a82d-4d47-aea8-44319961e255",
   "metadata": {},
   "outputs": [],
   "source": [
    "%load_ext autoreload\n",
    "%autoreload 2\n",
    "#%matplotlib widget\n",
    "#%matplotlib ipympl\n",
    "\n",
    "#%reload_ext tensorboard\n",
    "#%matplotlib qt"
   ]
  },
  {
   "cell_type": "code",
   "execution_count": null,
   "id": "5236053e-dda7-4530-9cad-2f710a1b3968",
   "metadata": {},
   "outputs": [],
   "source": [
    "import numpy as np\n",
    "import pandas as pd\n",
    "\n",
    "from torchinfo import summary\n",
    "#from torch_geometric.nn import summary\n",
    "import torch_geometric.transforms as T\n",
    "import torch\n",
    "\n",
    "from hnc_project.pytorch.run_model_torch import RunModel\n",
    "from hnc_project.pytorch.resnet import resnet50\n",
    "from hnc_project.pytorch import resnet_gcn as rgc"
   ]
  },
  {
   "cell_type": "code",
   "execution_count": null,
   "id": "638470fa-8b52-44da-b739-dc88d1c31752",
   "metadata": {},
   "outputs": [
    {
     "name": "stdout",
     "output_type": "stream",
     "text": [
      "logs are located at: logs\\testing_clinical_rotation5_clinicaltest_64feat_dp0p8_22324\n",
      "remember to set the data\n"
     ]
    }
   ],
   "source": [
    "from hnc_project.pytorch.gen_params_torch_cfg import model_config\n",
    "model_config['batch_size'] = 12\n",
    "model_config['dropout'] = 0.8\n",
    "model_config['n_epochs'] = 100\n",
    "model_config['learning_rate'] = 0.01\n",
    "model_config['lr_patience'] = 10\n",
    "model_config['l2_reg'] = 1e-4\n",
    "model_config['data_type'] = 'image'\n",
    "#model_config['model_name'] = 'EXTGatedResNetGCN'\n",
    "model_config['model_name'] = 'ClinicalGatedGCN'\n",
    "model_config['with_edge_attr'] = True\n",
    "model_config['use_clinical'] = True\n",
    "model_config['edge_dim'] = 1\n",
    "model_config['scaling_type'] = 'MinMax'\n",
    "model_config['cross_val'] = True\n",
    "model_config['augment'] = True\n",
    "model_config['augments'] = [\n",
    "                            'rotation'\n",
    "                           ]\n",
    "model_config['n_rotations'] = 5\n",
    "model_config['log_dir'] = 'testing_clinical_rotation5_clinicaltest_64feat_dp0p8_22324'\n",
    "model_config['transfer'] = None\n",
    "\n",
    "test_model = RunModel(model_config)"
   ]
  },
  {
   "cell_type": "code",
   "execution_count": null,
   "id": "60e45e89-e0ad-40d0-b272-5ba9a00fd290",
   "metadata": {
    "scrolled": true
   },
   "outputs": [],
   "source": [
    "radiomics_directory = '../../data/HNSCC/radiomics'\n",
    "patch_dir = '../../data/HNSCC/HNSCC_Nii_222_50_50_60_Crop_v2'\n",
    "#test_model.set_data(radiomics_dir=radiomics_directory, version='radiomics_edge_dist_v3')\n",
    "#test_model.set_data(patch_dir=patch_dir, version='image_edge_augment_rndf_v1')\n",
    "#test_model.set_data(patch_dir=patch_dir, version='image_edge_rotation5_v1')\n",
    "test_model.set_data(patch_dir=patch_dir, version='image_edge_rotation5_clinical_v2')\n",
    "test_model.set_train_test_split()\n",
    "#test_model.get_std_norm()\n",
    "#test_model.set_scaled_data(radiomics_dir=radiomics_directory, version='radiomics_edge_dist_scaled_v3')"
   ]
  },
  {
   "cell_type": "code",
   "execution_count": null,
   "id": "f11c33e8-7f8c-4251-95cd-6ac86e2453a5",
   "metadata": {},
   "outputs": [
    {
     "name": "stdout",
     "output_type": "stream",
     "text": [
      "feature extractor with transfer learning: None set\n",
      "ClinicalGatedGCN set\n"
     ]
    }
   ],
   "source": [
    "test_model.set_train_loader()\n",
    "test_model.set_val_loader()\n",
    "test_model.set_test_loader()\n",
    "test_model.set_feature_extractor(transfer=model_config['transfer'])\n",
    "test_model.set_model()"
   ]
  },
  {
   "cell_type": "code",
   "execution_count": null,
   "id": "07593806-8e26-454e-8200-72be806c6dae",
   "metadata": {
    "scrolled": true
   },
   "outputs": [
    {
     "name": "stdout",
     "output_type": "stream",
     "text": [
      "feature extractor with transfer learning: None set\n",
      "ClinicalGatedGCN set\n",
      "Epoch 1/100\n",
      "[03/120][...................] loss: 2.3598, AP: 0.2466, AUC: 0.7161\r"
     ]
    },
    {
     "name": "stderr",
     "output_type": "stream",
     "text": [
      "D:\\work\\Miniconda3\\envs\\pytorch_gpu_v2\\Lib\\site-packages\\torchmetrics\\utilities\\prints.py:43: UserWarning: No positive samples in targets, true positive value should be meaningless. Returning zero tensor in true positive score\n",
      "  warnings.warn(*args, **kwargs)  # noqa: B028\n"
     ]
    },
    {
     "name": "stdout",
     "output_type": "stream",
     "text": [
      "[120/120][====================] loss: 5.9269, AP: 0.0637, AUC: 0.5025\n",
      "Avg Train Loss: 1.9133; Total Train AP: 0.0637; Total Train AUC: 0.5025\n",
      "[7/7][====================]\n",
      "Avg Val   Loss: 1.337;       Val AP: 0.060 ± 0.027;         Val AUC: 0.457 ± 0.056;        Val SEN: 0.250;         Val SPE: 0.733 \n",
      "sched step\n",
      "-----------------------------------------------------------\n",
      "Epoch 2/100\n",
      "[120/120][====================] loss: 0.8085, AP: 0.0557, AUC: 0.5246\n",
      "Avg Train Loss: 1.6922; Total Train AP: 0.0557; Total Train AUC: 0.5246\n",
      "[7/7][====================]\n",
      "Avg Val   Loss: 1.274;       Val AP: 0.117 ± 0.036;         Val AUC: 0.550 ± 0.056;        Val SEN: 0.500;         Val SPE: 0.467 \n",
      "sched step\n",
      "-----------------------------------------------------------\n",
      "Epoch 3/100\n",
      "[120/120][====================] loss: 1.6677, AP: 0.0797, AUC: 0.5708\n",
      "Avg Train Loss: 1.5661; Total Train AP: 0.0797; Total Train AUC: 0.5708\n",
      "[7/7][====================]\n",
      "Avg Val   Loss: 1.243;       Val AP: 0.323 ± 0.053;         Val AUC: 0.677 ± 0.053;        Val SEN: 0.750;         Val SPE: 0.440 \n",
      "sched step\n",
      "-----------------------------------------------------------\n",
      "Epoch 4/100\n",
      "[120/120][====================] loss: 0.8647, AP: 0.0548, AUC: 0.5317\n",
      "Avg Train Loss: 1.7547; Total Train AP: 0.0548; Total Train AUC: 0.5317\n",
      "[7/7][====================]\n",
      "Avg Val   Loss: 1.199;       Val AP: 0.352 ± 0.054;         Val AUC: 0.630 ± 0.054;        Val SEN: 0.500;         Val SPE: 0.547 \n",
      "sched step\n",
      "-----------------------------------------------------------\n",
      "Epoch 5/100\n",
      "[120/120][====================] loss: 0.9071, AP: 0.0827, AUC: 0.6115\n",
      "Avg Train Loss: 1.6832; Total Train AP: 0.0827; Total Train AUC: 0.6115\n",
      "[7/7][====================]\n",
      "Avg Val   Loss: 1.189;       Val AP: 0.218 ± 0.046;         Val AUC: 0.690 ± 0.052;        Val SEN: 0.750;         Val SPE: 0.427 \n",
      "sched step\n",
      "-----------------------------------------------------------\n",
      "Epoch 6/100\n",
      "[71/120][===========........] loss: 0.8646, AP: 0.0884, AUC: 0.59255\r"
     ]
    }
   ],
   "source": [
    "#test_model.set_loss_fn()\n",
    "#test_model.run()\n",
    "results = test_model.run_crossval()\n",
    "print(results[2])\n",
    "print(results[3])"
   ]
  },
  {
   "cell_type": "code",
   "execution_count": 8,
   "id": "cffea95e-46df-4778-950b-a8ddc05925e7",
   "metadata": {},
   "outputs": [
    {
     "data": {
      "text/plain": [
       "ClinicalGatedGCN(\n",
       "  (conv1): ResGatedGraphConv(2048, 64)\n",
       "  (conv2): ResGatedGraphConv(64, 64)\n",
       "  (conv3): ResGatedGraphConv(64, 64)\n",
       "  (classify): Linear(in_features=93, out_features=1, bias=True)\n",
       "  (relu): ReLU()\n",
       "  (norm1): BatchNorm(64)\n",
       "  (norm2): BatchNorm(64)\n",
       "  (norm3): BatchNorm(64)\n",
       "  (dropout): Dropout(p=0.7, inplace=False)\n",
       ")"
      ]
     },
     "execution_count": 8,
     "metadata": {},
     "output_type": "execute_result"
    }
   ],
   "source": [
    "test_model.model"
   ]
  }
 ],
 "metadata": {
  "kernelspec": {
   "display_name": "pytorch_gpu_v2",
   "language": "python",
   "name": "pytorch_gpu_v2"
  },
  "language_info": {
   "codemirror_mode": {
    "name": "ipython",
    "version": 3
   },
   "file_extension": ".py",
   "mimetype": "text/x-python",
   "name": "python",
   "nbconvert_exporter": "python",
   "pygments_lexer": "ipython3",
   "version": "3.11.6"
  }
 },
 "nbformat": 4,
 "nbformat_minor": 5
}
