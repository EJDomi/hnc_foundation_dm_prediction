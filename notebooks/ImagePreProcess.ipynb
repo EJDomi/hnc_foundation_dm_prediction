{
 "cells": [
  {
   "cell_type": "markdown",
   "metadata": {},
   "source": [
    "## CT and RT Structure data Pre-processing for multi-label survival prediction using planing CT"
   ]
  },
  {
   "cell_type": "markdown",
   "metadata": {},
   "source": [
    "### 1. dicom to nii conversion"
   ]
  },
  {
   "cell_type": "code",
   "execution_count": null,
   "metadata": {},
   "outputs": [],
   "source": [
    "from dcmrtstruct2nii import dcmrtstruct2nii, list_rt_structs\n",
    "import os, sys, glob\n",
    "import numpy as np\n",
    "#from tqdm.notebook import tqdm\n",
    "from time import sleep"
   ]
  },
  {
   "cell_type": "code",
   "execution_count": null,
   "metadata": {},
   "outputs": [],
   "source": [
    "oriPath = '../../data/HNSCC/HNSCC/'\n",
    "patients = os.listdir(oriPath)\n",
    "\n",
    "savePath = '../../data/HNSCC/HNSCC_Nii_v2'\n",
    "if not os.path.exists(savePath):\n",
    "   os.makedirs(savePath)"
   ]
  },
  {
   "cell_type": "code",
   "execution_count": null,
   "metadata": {},
   "outputs": [],
   "source": [
    "len(patients)"
   ]
  },
  {
   "cell_type": "code",
   "execution_count": null,
   "metadata": {
    "tags": []
   },
   "outputs": [],
   "source": [
    "for p in patients:\n",
    "    if int(p.split('-')[-1]) < 130: continue\n",
    "    folder = os.listdir(os.path.join(oriPath, p))\n",
    "    print('++++++++++++++++++++++++++++++')\n",
    "    print(p)\n",
    "    print('------------------------------')\n",
    "    if len(folder)==0:\n",
    "        print('!!!!! No data for ',p)\n",
    "        print('------------------------------')\n",
    "        continue\n",
    "    for f in folder:\n",
    "        print(f'    folder {f}')\n",
    "        print('------------------------------')\n",
    "        subFolder = os.listdir(os.path.join(oriPath, p, f))\n",
    "        if len(subFolder)<2:\n",
    "            print(f'    !!!!! Not enough data for {p}: {f}')\n",
    "            print('------------------------------')\n",
    "            continue\n",
    "        pSavePath = os.path.join(savePath,p)\n",
    "        RTfile = []\n",
    "        imagePath = None\n",
    "        for s in subFolder:\n",
    "            print(f'        subfolder: {s}')\n",
    "            print('------------------------------')\n",
    "            if len(os.listdir(os.path.join(oriPath, p, f, s)))==1:\n",
    "                RTfile.append(glob.glob(os.path.join(oriPath, p, f, s,'*.dcm')))\n",
    "            else:\n",
    "                imagePath = os.path.join(oriPath, p, f, s)\n",
    "                print(f'        image path at subfolder {s}')\n",
    "                print('------------------------------')\n",
    "        # dcmrtstruct2nii(RTfile[0],imagePath,pSavePath)\n",
    "        RTfile = [rt for sub in RTfile for rt in sub]\n",
    "        if len(RTfile) < 1:\n",
    "            print(f'        !!!!! No RTStruct for folder {f}')\n",
    "            print('------------------------------')\n",
    "        if not imagePath: continue\n",
    "        for i, rt in enumerate(RTfile):\n",
    "            try:\n",
    "                list_rt_structs(rt)\n",
    "            except:\n",
    "                print(f'        !!!!! Not a valid RTStruct: {rt}')\n",
    "                continue\n",
    "            print(f'        RTStruct at {rt} {i}')\n",
    "            print('------------------------------')\n",
    "            try:\n",
    "                dcmrtstruct2nii(RTfile[i],imagePath,pSavePath+f'_0{i}')\n",
    "                print(f\"        Img and RTStructure Niis Generated for {p}_0{i}\")\n",
    "            except:\n",
    "                print(f'        !!!!!!!!!!!!!!! Something wrong with {p}_0{i}')\n",
    "                os.rmdir(pSavePath+f'_0{i}')"
   ]
  },
  {
   "cell_type": "code",
   "execution_count": null,
   "metadata": {},
   "outputs": [],
   "source": [
    "savedPatients = os.listdir(savePath)\n",
    "len(savedPatients)"
   ]
  },
  {
   "cell_type": "code",
   "execution_count": null,
   "metadata": {
    "tags": []
   },
   "outputs": [],
   "source": [
    "savedPatients"
   ]
  },
  {
   "cell_type": "markdown",
   "metadata": {},
   "source": [
    "### 2. Figure out how many patient data are available"
   ]
  },
  {
   "cell_type": "code",
   "execution_count": null,
   "metadata": {
    "tags": []
   },
   "outputs": [],
   "source": [
    "missing_gtv = []\n",
    "missing_img = []\n",
    "for p in savedPatients:\n",
    "    path = os.path.join(savePath, p)\n",
    "    files = os.listdir(path)\n",
    "\n",
    "    if 'image.nii.gz' in files:\n",
    "        if 'mask_GTVp.nii.gz' in files:\n",
    "            print(p, files)\n",
    "            continue\n",
    "        else:\n",
    "            missing_gtv.append(p)\n",
    "            print('This patient dosen\\'t have GTVp', p)\n",
    "            \n",
    "    else:\n",
    "        missing_img.append(p)\n",
    "        print('This patient dosen\\'t have img', p)"
   ]
  },
  {
   "cell_type": "code",
   "execution_count": null,
   "metadata": {},
   "outputs": [],
   "source": [
    "len(missing_gtv)"
   ]
  },
  {
   "cell_type": "code",
   "execution_count": null,
   "metadata": {},
   "outputs": [],
   "source": [
    "len(missing_img)"
   ]
  },
  {
   "cell_type": "code",
   "execution_count": null,
   "metadata": {},
   "outputs": [],
   "source": [
    "avaliable_patient = list(set(savedPatients) - set(missing_gtv) - set(missing_img))\n",
    "len(avaliable_patient)"
   ]
  },
  {
   "cell_type": "code",
   "execution_count": null,
   "metadata": {},
   "outputs": [],
   "source": [
    "from pathlib import Path\n",
    "from multiprocessing import Pool\n",
    "import logging\n",
    "\n",
    "import click\n",
    "import pandas as pd\n",
    "import numpy as np\n",
    "import SimpleITK as sitk"
   ]
  },
  {
   "cell_type": "code",
   "execution_count": null,
   "metadata": {},
   "outputs": [],
   "source": [
    "spacing = []\n",
    "name = []\n",
    "for p in avaliable_patient:\n",
    "    try:\n",
    "        ct = sitk.ReadImage(os.path.join(savePath, p, 'image.nii.gz'))\n",
    "        spacing.append(ct.GetSpacing())\n",
    "        name.append(p)\n",
    "    except:\n",
    "        print(p)"
   ]
  },
  {
   "cell_type": "code",
   "execution_count": null,
   "metadata": {},
   "outputs": [],
   "source": [
    "file = open('spacing.txt','w')\n",
    "for item1,item2,item3,  in spacing:\n",
    "    file.write(str(item1)+str(item2)+str(item3)+\"\\n\")\n",
    "file.close()\n",
    "\n",
    "file = open('name.txt','w')\n",
    "for item in name:\n",
    "    file.write(item+\"\\n\")\n",
    "file.close()"
   ]
  },
  {
   "cell_type": "markdown",
   "metadata": {},
   "source": [
    "### 3. Resampling"
   ]
  },
  {
   "cell_type": "code",
   "execution_count": null,
   "metadata": {},
   "outputs": [],
   "source": [
    "resample_path = '../data/HNSCC_OPC_Radiomics_Nii_Resample_222/'"
   ]
  },
  {
   "cell_type": "code",
   "execution_count": null,
   "metadata": {},
   "outputs": [],
   "source": [
    "\n",
    "if not os.path.exists(resample_path):\n",
    "   os.makedirs(resample_path)"
   ]
  },
  {
   "cell_type": "code",
   "execution_count": null,
   "metadata": {},
   "outputs": [],
   "source": [
    "resampler = sitk.ResampleImageFilter()\n",
    "resampler.SetOutputDirection([1, 0, 0, 0, 1, 0, 0, 0, 1])\n",
    "resampling = [2,2,2]\n",
    "resampler.SetOutputSpacing(resampling)"
   ]
  },
  {
   "cell_type": "code",
   "execution_count": null,
   "metadata": {},
   "outputs": [],
   "source": [
    "def get_bouding_boxes(ct, pt):\n",
    "    \"\"\"\n",
    "    Get the bounding boxes of the CT and PT images.\n",
    "    This works since all images have the same direction\n",
    "    \"\"\"\n",
    "\n",
    "    ct_origin = np.array(ct.GetOrigin())\n",
    "    pt_origin = np.array(pt.GetOrigin())\n",
    "\n",
    "    ct_position_max = ct_origin + np.array(ct.GetSize()) * np.array(\n",
    "        ct.GetSpacing())\n",
    "    pt_position_max = pt_origin + np.array(pt.GetSize()) * np.array(\n",
    "        pt.GetSpacing())\n",
    "    return np.concatenate(\n",
    "        [\n",
    "            np.maximum(ct_origin, pt_origin),\n",
    "            np.minimum(ct_position_max, pt_position_max),\n",
    "        ],\n",
    "        axis=0,\n",
    "    )"
   ]
  },
  {
   "cell_type": "code",
   "execution_count": null,
   "metadata": {},
   "outputs": [],
   "source": [
    "def resample_one_patient(p):\n",
    "    \n",
    "    ct = sitk.ReadImage(os.path.join(savePath, p, 'image.nii.gz'))\n",
    "    label = sitk.ReadImage(os.path.join(savePath, p, 'mask_GTVp.nii.gz'))\n",
    "    bb = get_bouding_boxes(ct, ct)\n",
    "    size = np.round((bb[3:] - bb[:3]) / resampling).astype(int)\n",
    "    resampler.SetOutputOrigin(bb[:3])\n",
    "    resampler.SetSize([int(k) for k in size])  # sitk is so stupid\n",
    "    resampler.SetInterpolator(sitk.sitkBSpline)\n",
    "    ct = resampler.Execute(ct)\n",
    "    sitk.WriteImage(ct, os.path.join(resample_path, p+'_image.nii.gz'))\n",
    "    resampler.SetInterpolator(sitk.sitkNearestNeighbor)\n",
    "    label = resampler.Execute(label)\n",
    "    sitk.WriteImage(label, os.path.join(resample_path, p+'_mask_GTVp.nii.gz'))"
   ]
  },
  {
   "cell_type": "code",
   "execution_count": null,
   "metadata": {},
   "outputs": [],
   "source": [
    "for p in avaliable_patient:\n",
    "    resample_one_patient(p)"
   ]
  },
  {
   "cell_type": "markdown",
   "metadata": {},
   "source": [
    "### 4. Cropping"
   ]
  },
  {
   "cell_type": "code",
   "execution_count": null,
   "metadata": {},
   "outputs": [],
   "source": [
    "def find_centroid(mask):\n",
    "\n",
    "    stats = sitk.LabelShapeStatisticsImageFilter()\n",
    "    stats.Execute(mask)\n",
    "    try:\n",
    "        centroid_coords = stats.GetCentroid(255)\n",
    "    except:\n",
    "        print('Something wrong')\n",
    "    centroid_idx = mask.TransformPhysicalPointToIndex(centroid_coords)\n",
    "\n",
    "    return np.asarray(centroid_idx, dtype=np.float64)"
   ]
  },
  {
   "cell_type": "code",
   "execution_count": null,
   "metadata": {},
   "outputs": [],
   "source": [
    "crop_path = '../data/HNSCC_OPC_Radiomics_Nii_Resample_222_80_80_48_Crop/'\n",
    "if not os.path.exists(crop_path):\n",
    "   os.makedirs(crop_path)"
   ]
  },
  {
   "cell_type": "code",
   "execution_count": null,
   "metadata": {},
   "outputs": [],
   "source": [
    "exclude_patients = [\"HNSCC-01-0358\",\"HNSCC-01-0253\",\"HNSCC-01-0464\"] # no clinic data\n",
    "\n",
    "def tune_range(min_d, max_d, d, size_d, p):\n",
    "    if min_d<0:\n",
    "        min_d = 0\n",
    "        max_d = min_d + d\n",
    "        assert (max_d<size_d), f\"Cannot extract the patch with the shape {size_d} from the image with the shape {d} for patient{p}.\"\n",
    "    \n",
    "    if max_d>d:\n",
    "        max_d = d\n",
    "        min_d = max_d - size_d\n",
    "        assert (min_d>0), f\"Cannot extract the patch with the shape {size_d} from the image with the shape {d} for patient{p}.\"\n",
    "\n",
    "    return min_d, max_d\n",
    "\n",
    "for p in avaliable_patient:\n",
    "\n",
    "    image = sitk.ReadImage(os.path.join(resample_path, p+'_image.nii.gz'))\n",
    "    mask = sitk.ReadImage(os.path.join(resample_path, p+'_mask_GTVp.nii.gz'))\n",
    "    try:\n",
    "        if not p in exclude_patients:\n",
    "            patch_size = np.array([80,80,48])\n",
    "\n",
    "            #crop the image to patch_size around the tumor center\n",
    "            tumour_center = find_centroid(mask) # center of GTV\n",
    "            size = patch_size\n",
    "            min_coords = np.floor(tumour_center - size / 2).astype(np.int64)\n",
    "            max_coords = np.floor(tumour_center + size / 2).astype(np.int64)\n",
    "            min_x, min_y, min_z = min_coords\n",
    "            max_x, max_y, max_z = max_coords\n",
    "\n",
    "            (img_x, img_y, img_z)=image.GetSize()\n",
    "\n",
    "            min_x, max_x = tune_range(min_x, max_x, img_x, size[0], p) \n",
    "            min_y, max_y = tune_range(min_y, max_y, img_y, size[1], p) \n",
    "            min_z, max_z = tune_range(min_z, max_z, img_z, size[2], p) \n",
    "            \n",
    "            image = image[min_x:max_x, min_y:max_y, min_z:max_z]\n",
    "\n",
    "            # window image intensities to [-500, 1000] HU range\n",
    "            image = sitk.Clamp(image, sitk.sitkFloat32, -500, 500)\n",
    "            mask = mask[min_x:max_x, min_y:max_y, min_z:max_z]\n",
    "\n",
    "            sitk.WriteImage(image, os.path.join(crop_path, p+'_image.nii.gz'))\n",
    "            sitk.WriteImage(mask, os.path.join(crop_path, p+'_mask_GTVp.nii.gz'))\n",
    "        else:\n",
    "            print('skip ', p)\n",
    "            continue\n",
    "    except:\n",
    "        print(p)"
   ]
  },
  {
   "cell_type": "code",
   "execution_count": null,
   "metadata": {},
   "outputs": [],
   "source": [
    "import csv\n",
    "\n",
    "with open('./data/avaliable_patient.csv','w') as result_file:\n",
    "    wr = csv.writer(result_file, dialect='excel')\n",
    "    for p in avaliable_patient:\n",
    "        wr.writerow([p])"
   ]
  }
 ],
 "metadata": {
  "kernelspec": {
   "display_name": "pytorch_gpu_v2",
   "language": "python",
   "name": "pytorch_gpu_v2"
  },
  "language_info": {
   "codemirror_mode": {
    "name": "ipython",
    "version": 3
   },
   "file_extension": ".py",
   "mimetype": "text/x-python",
   "name": "python",
   "nbconvert_exporter": "python",
   "pygments_lexer": "ipython3",
   "version": "3.9.18"
  },
  "vscode": {
   "interpreter": {
    "hash": "ee0e7d83ec1b3655b782d9587428d1f0e54311dacbc00781f6c27f3fadf2a670"
   }
  }
 },
 "nbformat": 4,
 "nbformat_minor": 4
}
