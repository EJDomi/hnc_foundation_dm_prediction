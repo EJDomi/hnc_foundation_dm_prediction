{
 "cells": [
  {
   "cell_type": "markdown",
   "id": "7908061a-e72f-4fac-a931-d007eaadab0f",
   "metadata": {},
   "source": [
    "# For running tensorboard"
   ]
  },
  {
   "cell_type": "code",
   "execution_count": 1,
   "id": "abab8eb3-0f8c-4e6a-9cea-21d37d038db7",
   "metadata": {},
   "outputs": [],
   "source": [
    "%load_ext autoreload\n",
    "%autoreload 2\n",
    "%reload_ext tensorboard\n",
    "#%matplotlib qt"
   ]
  },
  {
   "cell_type": "code",
   "execution_count": 2,
   "id": "514d0c39-fa62-4365-b145-8f0c6f264f75",
   "metadata": {},
   "outputs": [
    {
     "data": {
      "text/html": [
       "\n",
       "      <iframe id=\"tensorboard-frame-8f5d7fb2f8107146\" width=\"100%\" height=\"800\" frameborder=\"0\">\n",
       "      </iframe>\n",
       "      <script>\n",
       "        (function() {\n",
       "          const frame = document.getElementById(\"tensorboard-frame-8f5d7fb2f8107146\");\n",
       "          const url = new URL(\"/\", window.location);\n",
       "          const port = 6006;\n",
       "          if (port) {\n",
       "            url.port = port;\n",
       "          }\n",
       "          frame.src = url;\n",
       "        })();\n",
       "      </script>\n",
       "    "
      ],
      "text/plain": [
       "<IPython.core.display.HTML object>"
      ]
     },
     "metadata": {},
     "output_type": "display_data"
    }
   ],
   "source": [
    "\n",
    "#%tensorboard --logdir='D:/work/ray_results'\n",
    "%tensorboard --logdir='D:\\work\\jupyter_lab_dirs\\notebooks\\hnc_project\\logs'\n",
    "# for old tensorboard, remove temp files at C:\\Users\\S220127\\AppData\\Local\\Temp\\.tensorboard-info "
   ]
  },
  {
   "cell_type": "code",
   "execution_count": null,
   "id": "26be9052-d2a8-4f23-9202-d1c5703375ab",
   "metadata": {},
   "outputs": [],
   "source": [
    "!nvidia-smi"
   ]
  },
  {
   "cell_type": "code",
   "execution_count": null,
   "id": "c8a8d367-ac54-4620-8617-5288aacf3dd4",
   "metadata": {},
   "outputs": [],
   "source": []
  },
  {
   "cell_type": "code",
   "execution_count": null,
   "id": "306de1f2-e016-478b-9971-b3382c84630f",
   "metadata": {},
   "outputs": [],
   "source": []
  }
 ],
 "metadata": {
  "kernelspec": {
   "display_name": "pytorch_gpu_v2",
   "language": "python",
   "name": "pytorch_gpu_v2"
  },
  "language_info": {
   "codemirror_mode": {
    "name": "ipython",
    "version": 3
   },
   "file_extension": ".py",
   "mimetype": "text/x-python",
   "name": "python",
   "nbconvert_exporter": "python",
   "pygments_lexer": "ipython3",
   "version": "3.11.6"
  }
 },
 "nbformat": 4,
 "nbformat_minor": 5
}
