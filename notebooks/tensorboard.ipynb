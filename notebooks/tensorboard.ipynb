{
 "cells": [
  {
   "cell_type": "markdown",
   "id": "7908061a-e72f-4fac-a931-d007eaadab0f",
   "metadata": {},
   "source": [
    "# For running tensorboard"
   ]
  },
  {
   "cell_type": "code",
   "execution_count": 1,
   "id": "abab8eb3-0f8c-4e6a-9cea-21d37d038db7",
   "metadata": {},
   "outputs": [],
   "source": [
    "%load_ext autoreload\n",
    "%autoreload 2\n",
    "%reload_ext tensorboard\n",
    "#%matplotlib qt"
   ]
  },
  {
   "cell_type": "code",
   "execution_count": null,
   "id": "514d0c39-fa62-4365-b145-8f0c6f264f75",
   "metadata": {},
   "outputs": [],
   "source": [
    "\n",
    "#%tensorboard --logdir='D:/work/ray_results'\n",
    "%tensorboard --logdir='/mnt/d/work/jupyter_lab_dirs/notebooks/hnc_project/logs'\n",
    "# for old tensorboard, remove temp files at C:\\Users\\S220127\\AppData\\Local\\Temp\\.tensorboard-info "
   ]
  },
  {
   "cell_type": "code",
   "execution_count": 3,
   "id": "26be9052-d2a8-4f23-9202-d1c5703375ab",
   "metadata": {},
   "outputs": [
    {
     "name": "stdout",
     "output_type": "stream",
     "text": [
      "Mon Jul  8 09:01:08 2024       \n",
      "+-----------------------------------------------------------------------------------------+\n",
      "| NVIDIA-SMI 550.85                 Driver Version: 552.41         CUDA Version: 12.4     |\n",
      "|-----------------------------------------+------------------------+----------------------+\n",
      "| GPU  Name                 Persistence-M | Bus-Id          Disp.A | Volatile Uncorr. ECC |\n",
      "| Fan  Temp   Perf          Pwr:Usage/Cap |           Memory-Usage | GPU-Util  Compute M. |\n",
      "|                                         |                        |               MIG M. |\n",
      "|=========================================+========================+======================|\n",
      "|   0  NVIDIA GeForce RTX 3090        On  |   00000000:02:00.0  On |                  N/A |\n",
      "| 33%   62C    P2            104W /  350W |   18124MiB /  24576MiB |     97%      Default |\n",
      "|                                         |                        |                  N/A |\n",
      "+-----------------------------------------+------------------------+----------------------+\n",
      "                                                                                         \n",
      "+-----------------------------------------------------------------------------------------+\n",
      "| Processes:                                                                              |\n",
      "|  GPU   GI   CI        PID   Type   Process name                              GPU Memory |\n",
      "|        ID   ID                                                               Usage      |\n",
      "|=========================================================================================|\n",
      "|    0   N/A  N/A        16      G   /Xwayland                                   N/A      |\n",
      "|    0   N/A  N/A    216798      C   /python3.9                                  N/A      |\n",
      "+-----------------------------------------------------------------------------------------+\n"
     ]
    }
   ],
   "source": [
    "!nvidia-smi"
   ]
  },
  {
   "cell_type": "code",
   "execution_count": null,
   "id": "c8a8d367-ac54-4620-8617-5288aacf3dd4",
   "metadata": {},
   "outputs": [],
   "source": []
  },
  {
   "cell_type": "code",
   "execution_count": null,
   "id": "306de1f2-e016-478b-9971-b3382c84630f",
   "metadata": {},
   "outputs": [],
   "source": []
  }
 ],
 "metadata": {
  "kernelspec": {
   "display_name": "pytorch_gpu_v2",
   "language": "python",
   "name": "pytorch_gpu_v2"
  },
  "language_info": {
   "codemirror_mode": {
    "name": "ipython",
    "version": 3
   },
   "file_extension": ".py",
   "mimetype": "text/x-python",
   "name": "python",
   "nbconvert_exporter": "python",
   "pygments_lexer": "ipython3",
   "version": "3.9.19"
  }
 },
 "nbformat": 4,
 "nbformat_minor": 5
}
