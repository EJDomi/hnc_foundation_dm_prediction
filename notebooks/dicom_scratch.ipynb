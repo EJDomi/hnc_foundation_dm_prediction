{
 "cells": [
  {
   "cell_type": "code",
   "execution_count": null,
   "id": "1ea001b2-543b-4c99-b0e4-7fdadcf21102",
   "metadata": {
    "editable": true,
    "slideshow": {
     "slide_type": ""
    },
    "tags": []
   },
   "outputs": [],
   "source": [
    "import os\n",
    "from pathlib import Path\n",
    "import matplotlib.pyplot as plt\n",
    "import pydicom\n",
    "import numpy as np\n",
    "import pandas as pd\n",
    "import SimpleITK as sitk\n",
    "from tqdm.auto import tqdm\n",
    "import glob\n",
    "import pandas as pd\n",
    "from platipy.imaging import ImageVisualiser\n",
    "from platipy.dicom.io.rtstruct_to_nifti import convert_rtstruct, read_dicom_image"
   ]
  },
  {
   "cell_type": "code",
   "execution_count": null,
   "id": "cdfb4865-1e1d-435b-918d-6934550e35c1",
   "metadata": {},
   "outputs": [],
   "source": [
    "data_directory = '../../data/HNSCC'\n",
    "nifti_dir = '../../data/HNSCC/HNSCC_Nii_below216'\n",
    "vis_dir = '../../data/HNSCC/HNSCC_vis_snapshots'\n",
    "patient_dirs = glob.glob(f\"{data_directory}/*\")\n",
    "data_path = Path(data_directory)\n",
    "nii_path = Path(nifti_dir)\n",
    "vis_path = Path(vis_dir)\n",
    "nii_path.mkdir(exist_ok=True, parents=True)\n",
    "vis_path.mkdir(exist_ok=True, parents=True)\n",
    "meta_df = pd.read_csv(data_path.joinpath('metadata.csv'))"
   ]
  },
  {
   "cell_type": "code",
   "execution_count": null,
   "id": "0106da4c-fef5-4f09-82e3-a3c9ecb88bc8",
   "metadata": {},
   "outputs": [],
   "source": [
    "patient = \"HNSCC-01-0225\"\n",
    "rtstruct_row = meta_df[(meta_df[\"Subject ID\"] == patient) & (meta_df[\"Modality\"] == \"RTSTRUCT\")].iloc[0]\n",
    "rtstruct_dir = data_path.joinpath(rtstruct_row[\"File Location\"])\n",
    "rtstruct_file = list(rtstruct_dir.glob(\"*\"))[0]\n",
    "rtstruct = pydicom.read_file(rtstruct_file)\n",
    "ct_row = meta_df[(meta_df[\"Subject ID\"] == patient) & (meta_df[\"Modality\"] == \"CT\")].iloc[0]\n",
    "ct_dir = data_path.joinpath(ct_row[\"File Location\"])"
   ]
  },
  {
   "cell_type": "code",
   "execution_count": null,
   "id": "165e5b52-449f-4276-b5bf-0a98bb70f83b",
   "metadata": {},
   "outputs": [],
   "source": [
    "# testing a dicom rtstruct conversion from previously failed conversion\n",
    "patient_nii_path = nii_path.joinpath(patient)\n",
    "patient_nii_path.mkdir(exist_ok=True, parents=True)\n",
    "patient_image_path = patient_nii_path.joinpath('image.nii.gz')\n",
    "convert_rtstruct(ct_dir, rtstruct_file, output_dir=patient_nii_path, output_img=patient_image_path)"
   ]
  },
  {
   "cell_type": "code",
   "execution_count": null,
   "id": "1a6dc964-d132-44bc-9d6e-6e3582b42e7d",
   "metadata": {},
   "outputs": [],
   "source": [
    "selected_rows = []\n",
    "for pat, df_group in meta_df.groupby(\"Subject ID\"):\n",
    "\n",
    "    # Select the structure set with the later date\n",
    "    latest_date = None\n",
    "    latest_file = None\n",
    "    linked_ct_uid = None\n",
    "    for idx, rtstruct_row in df_group[df_group.Modality == \"RTSTRUCT\"].iterrows():\n",
    "        rtstruct_dir = data_path.joinpath(rtstruct_row[\"File Location\"])\n",
    "        rtstruct_file = list(rtstruct_dir.glob(\"*\"))[0]\n",
    "        rtstruct = pydicom.read_file(rtstruct_file)\n",
    "        try:\n",
    "            rtstruct_date = int(rtstruct.InstanceCreationDate)\n",
    "        except:\n",
    "            #print(f'{pat}, RTStruct instance creation date is empty')\n",
    "            rstruct_date = 1\n",
    "    \n",
    "        if latest_date is None or rtstruct_date > latest_date:\n",
    "            latest_date = rtstruct_date\n",
    "            latest_file = idx\n",
    "            linked_ct_uid = rtstruct.ReferencedFrameOfReferenceSequence[0].RTReferencedStudySequence[0].RTReferencedSeriesSequence[0].SeriesInstanceUID\n",
    "    \n",
    "    # Select the RTSTRUCT for this patient\n",
    "    if latest_file is None:\n",
    "        print(f\"{pat} has no RTStruct\")\n",
    "        continue\n",
    "    selected_rows.append(latest_file)\n",
    "    \n",
    "    # Also select the CT image linked to the RTSTRUCT\n",
    "    try: \n",
    "        ct_idx = meta_df[meta_df[\"Series UID\"] == linked_ct_uid].iloc[0].name\n",
    "        selected_rows.append(ct_idx)\n",
    "    except:\n",
    "        print(f\"{pat} does not have linked CT or RTStruct\")\n",
    "meta_df_clean = meta_df.loc[selected_rows]"
   ]
  },
  {
   "cell_type": "code",
   "execution_count": null,
   "id": "89601f69-0a7c-498a-9e1b-c449af29d1fe",
   "metadata": {},
   "outputs": [],
   "source": []
  },
  {
   "cell_type": "code",
   "execution_count": null,
   "id": "4f2b4388-1396-4fd7-992f-f460fab5277e",
   "metadata": {},
   "outputs": [],
   "source": [
    "checks = [\n",
    "          'gtv',\n",
    "          'nod',\n",
    "          'ln',\n",
    "         ]\n",
    "for patient, pat_df in tqdm(meta_df_clean.groupby(\"Subject ID\")):\n",
    "    \n",
    "    #if int(patient.split('-')[-1]) == 1: continue\n",
    "    if int(patient.split('-')[-1]) >= 216: continue\n",
    "        \n",
    "    patient_nii_path = nii_path.joinpath(patient)\n",
    "    patient_nii_path.mkdir(exist_ok=True, parents=True)\n",
    "    patient_vis_path = vis_path.joinpath(patient)\n",
    "    patient_vis_path.mkdir(exist_ok=True, parents=True)\n",
    "\n",
    "    #Convert the CT Image\n",
    "    ct_row = pat_df[pat_df[\"Modality\"] == \"CT\"].iloc[0]\n",
    "    ct_directory = data_path.joinpath(ct_row[\"File Location\"])\n",
    "    ct_image = read_dicom_image(ct_directory)\n",
    "    output_file = patient_nii_path.joinpath(\"image.nii.gz\")\n",
    "    sitk.WriteImage(ct_image, str(output_file))\n",
    "  \n",
    "    # Convert the Structures\n",
    "    rtstruct_row = pat_df[pat_df[\"Modality\"] == \"RTSTRUCT\"].iloc[0]\n",
    "    rtstruct_dir = data_path.joinpath(rtstruct_row[\"File Location\"])\n",
    "    rtstruct_file = list(rtstruct_dir.glob(\"*\"))[0]\n",
    "    try:\n",
    "        convert_rtstruct(ct_directory, rtstruct_file, output_dir=patient_nii_path)\n",
    "    except:\n",
    "        print(f\"failed: {patient}\")\n",
    "        continue\n",
    "  \n",
    "    # Prepare and save the visualisation\n",
    "    vis = ImageVisualiser(ct_image)\n",
    "    contours = {s.name.split(\".\")[0].replace(\"Struct_\", \"\"): sitk.ReadImage(str(s)) for s in patient_nii_path.glob(\"Struct_*.nii.gz\") if np.any([n in str(s).lower() for n in checks])}\n",
    "    vis.add_contour(contours)\n",
    "    try:\n",
    "        fig = vis.show()\n",
    "    except:\n",
    "        print(f\"failed to visualize: {patient}\")\n",
    "    output_file_path = patient_vis_path.joinpath(f\"{patient}_vis.png\")\n",
    "    fig.savefig(output_file_path, dpi=fig.dpi)\n",
    "    plt.close()"
   ]
  },
  {
   "cell_type": "code",
   "execution_count": null,
   "id": "9b9bcfad-3013-47d9-b363-9c23caab8c14",
   "metadata": {},
   "outputs": [],
   "source": [
    "vis_df = pd.read_csv('snapshot_list.csv')\n",
    "vis_df.set_index('patient', inplace=True)"
   ]
  },
  {
   "cell_type": "code",
   "execution_count": null,
   "id": "59e16543-d666-4b69-a151-76d21591f37e",
   "metadata": {},
   "outputs": [],
   "source": [
    "checks = [\n",
    "          'gtv',\n",
    "          'nod',\n",
    "          'ln',\n",
    "         ]\n",
    "for pat in vis_df.index:\n",
    "    slices = []\n",
    "    dim_slices = []\n",
    "    for s in vis_df['slice'].loc[pat].split(','):\n",
    "        dim_slices.append(s.split('-'))\n",
    "    for z in dim_slices[0]:\n",
    "        for y in dim_slices[1]:\n",
    "            for x in dim_slices[2]:\n",
    "                slices.append((int(x), int(y), int(z)))\n",
    "    patient_nii_path = nii_path.joinpath(pat)\n",
    "    patient_vis_path = vis_path.joinpath(pat)\n",
    "    patient_vis_path.mkdir(exist_ok=True, parents=True)\n",
    "\n",
    "    ct_image = sitk.ReadImage(patient_nii_path.joinpath('image.nii.gz'))\n",
    "    rtstructs = list(patient_nii_path.glob(\"*Struct*\"))\n",
    "    rt = {}\n",
    "    for struct in rtstructs:\n",
    "        struct_name = struct.as_posix().split('/')[-1].replace('Struct_','').replace('.nii.gz', '')\n",
    "        if np.any([c in struct_name.lower() for c in checks]):\n",
    "            rt[struct_name] = sitk.ReadImage(struct)\n",
    "\n",
    "    for s in slices: \n",
    "        vis = ImageVisualiser(ct_image, cut=s)\n",
    "        vis.add_contour(rt)\n",
    "        fig = vis.show()\n",
    "        out_path = patient_vis_path.joinpath(f\"a{s[0]}_c{s[1]}_s{s[2]}.jpg\")\n",
    "        fig.savefig(out_path, dpi=fig.dpi)\n",
    "        plt.close(fig)\n"
   ]
  },
  {
   "cell_type": "code",
   "execution_count": null,
   "id": "560bfe1d-52c6-4a7d-9da6-85564de531be",
   "metadata": {},
   "outputs": [],
   "source": [
    "for pat in vis_df.index:\n",
    "    print(pat)\n",
    "    slices = []\n",
    "    dim_slices = []\n",
    "    for s in vis_df['slice'].loc[pat].split(','):\n",
    "        dim_slices.append(s.split('-'))\n",
    "    for z in dim_slices[0]:\n",
    "        for y in dim_slices[1]:\n",
    "            for x in dim_slices[2]:\n",
    "                slices.append((int(x), int(y), int(z)))\n",
    "    print(slices)"
   ]
  }
 ],
 "metadata": {
  "kernelspec": {
   "display_name": "pytorch_gpu_v2",
   "language": "python",
   "name": "pytorch_gpu_v2"
  },
  "language_info": {
   "codemirror_mode": {
    "name": "ipython",
    "version": 3
   },
   "file_extension": ".py",
   "mimetype": "text/x-python",
   "name": "python",
   "nbconvert_exporter": "python",
   "pygments_lexer": "ipython3",
   "version": "3.9.19"
  }
 },
 "nbformat": 4,
 "nbformat_minor": 5
}
