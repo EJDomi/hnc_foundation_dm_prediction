{
 "cells": [
  {
   "cell_type": "code",
   "execution_count": 1,
   "id": "3ece1ba8-0204-4a83-b1dd-55fedc658cd8",
   "metadata": {},
   "outputs": [],
   "source": [
    "%load_ext autoreload\n",
    "%autoreload 2\n",
    "#%matplotlib widget\n",
    "#%matplotlib ipympl\n",
    "\n",
    "#%reload_ext tensorboard\n",
    "#%matplotlib qt"
   ]
  },
  {
   "cell_type": "code",
   "execution_count": 2,
   "id": "3ab8e9fc-4004-48d2-b3ce-93e41dd85bc3",
   "metadata": {},
   "outputs": [],
   "source": [
    "import numpy as np\n",
    "import pandas as pd\n",
    "import matplotlib.pyplot as plt\n",
    "import napari\n",
    "\n",
    "from pathlib import Path\n",
    "from torchinfo import summary\n",
    "#from torch_geometric.nn import summary\n",
    "from skimage.segmentation import slic\n",
    "from skimage import segmentation\n",
    "from skimage.exposure import rescale_intensity\n",
    "from torch_geometric.transforms import ToSLIC\n",
    "import torch\n",
    "import SimpleITK as sitk\n",
    "from hnc_project.pytorch.run_model_torch import RunModel\n",
    "\n",
    "patch_dir = Path('../../data/HNSCC/HNSCC_Nii_222_50_50_60_Crop_v2')\n",
    "nii_dir = Path('../../data/HNSCC/HNSCC_Nii_v3')\n",
    "twomm_dir = Path('../../data/HNSCC/HNSCC_Nii_resample_222')\n",
    "test_patient = 'HNSCC-01-0233'"
   ]
  },
  {
   "cell_type": "code",
   "execution_count": 3,
   "id": "fe963b3f-0746-48bf-8c7e-47fac811b8e3",
   "metadata": {},
   "outputs": [],
   "source": [
    "image = sitk.ReadImage(nii_dir.joinpath(f\"{test_patient}/image.nii.gz\"))\n",
    "struct_gtvp = sitk.ReadImage(nii_dir.joinpath(f\"{test_patient}/Struct_GTVp.nii.gz\"))\n",
    "struct_gtvn1 = sitk.ReadImage(nii_dir.joinpath(f\"{test_patient}/Struct_GTVn1.nii.gz\"))\n",
    "struct_gtvn2 = sitk.ReadImage(nii_dir.joinpath(f\"{test_patient}/Struct_GTVn2.nii.gz\"))\n",
    "image = sitk.Clamp(image, sitk.sitkFloat32, -500, 500)"
   ]
  },
  {
   "cell_type": "code",
   "execution_count": 4,
   "id": "a2227484-e77a-4a8c-aefe-570749388219",
   "metadata": {},
   "outputs": [],
   "source": [
    "image_arr = sitk.GetArrayFromImage(image)\n",
    "struct_gtvp_arr = sitk.GetArrayFromImage(struct_gtvp)\n",
    "struct_gtvn1_arr = sitk.GetArrayFromImage(struct_gtvn1)\n",
    "struct_gtvn2_arr = sitk.GetArrayFromImage(struct_gtvn2)\n",
    "total_struct = struct_gtvp_arr + struct_gtvn1_arr + struct_gtvn2_arr\n",
    "opp_struct = np.logical_not(total_struct)"
   ]
  },
  {
   "cell_type": "code",
   "execution_count": 5,
   "id": "dac6e2c1-da99-44d7-ac30-8c9dfc566896",
   "metadata": {},
   "outputs": [],
   "source": [
    "image_arr = rescale_intensity(image_arr, in_range=(-500, 500), out_range=(0,1))"
   ]
  },
  {
   "cell_type": "code",
   "execution_count": 13,
   "id": "e9b7a20c-b27b-4547-b003-7996ebec9d25",
   "metadata": {},
   "outputs": [],
   "source": [
    "slic_gtvp_seg = slic(image_arr, mask=struct_gtvp_arr, compactness=0.3, n_segments=20, max_num_iter=10, channel_axis=None, slic_zero=True)\n",
    "slic_gtvn1_seg = slic(image_arr, mask=struct_gtvn1_arr, compactness=0.3, n_segments=20, max_num_iter=10, channel_axis=None, slic_zero=True)\n",
    "slic_gtvn2_seg = slic(image_arr, mask=struct_gtvn2_arr, compactness=0.3, n_segments=20, max_num_iter=10, channel_axis=None, slic_zero=True)\n",
    "#slic_seg = slic(image_arr, mask=struct_arr, n_segments=50, max_num_iter=10, channel_axis=None, slic_zero=True)"
   ]
  },
  {
   "cell_type": "code",
   "execution_count": 57,
   "id": "2d46f8ea-6032-4b14-a540-b1ac52738d08",
   "metadata": {},
   "outputs": [],
   "source": [
    "slic_seg = slic(image_arr, compactness=0.3, n_segments=2000, max_num_iter=10, sigma=0.5, channel_axis=None, slic_zero=False)\n",
    "#slic_seg = slic(image_arr, mask=opp_struct, compactness=0.01, n_segments=1500, max_num_iter=10, channel_axis=None, slic_zero=True)"
   ]
  },
  {
   "cell_type": "code",
   "execution_count": 58,
   "id": "f96bee63-1b7d-44c6-b4f6-e5b38cccab23",
   "metadata": {},
   "outputs": [],
   "source": [
    "boundaries = []\n",
    "boundaries_gtvp = []\n",
    "boundaries_gtvn1 = []\n",
    "boundaries_gtvn2 = []\n",
    "for idx, slice in enumerate(image_arr):\n",
    "    #if idx != 140: continue\n",
    "    #slic_slices.append(slic(image_arr[idx], compactness=0.3, n_segments=400, max_num_iter=10, channel_axis=None, slic_zero=True))\n",
    "    #boundaries.append(segmentation.mark_boundaries(slice, slic_slices[idx], color=(1,1,1)))\n",
    "    boundaries.append(segmentation.mark_boundaries(slice, slic_seg[idx], color=(1,1,0)))\n",
    "    #boundaries_gtvp.append(segmentation.mark_boundaries(slice, slic_gtvp_seg[idx], color=(1,0,0)))\n",
    "    #boundaries_gtvn1.append(segmentation.mark_boundaries(slice, slic_gtvn1_seg[idx], color=(0,1,1)))\n",
    "    #boundaries_gtvn2.append(segmentation.mark_boundaries(slice, slic_gtvn2_seg[idx], color=(0,1,1)))\n",
    "    #boundaries.append(segmentation.find_boundaries(slic_seg[idx], mode='outer'))\n",
    "    #boundaries_gtvp.append(segmentation.find_boundaries(slic_gtvp_seg[idx], mode='outer'))\n",
    "    #boundaries_gtvn1.append(segmentation.find_boundaries(slic_gtvn1_seg[idx], mode='outer'))\n",
    "    #boundaries_gtvn2.append(segmentation.find_boundaries(slic_gtvn2_seg[idx], mode='outer'))\n",
    "boundaries = np.array(boundaries)\n",
    "#boundaries_gtvp = np.array(boundaries_gtvp)\n",
    "#boundaries_gtvn1 = np.array(boundaries_gtvn1)\n",
    "#boundaries_gtvn2 = np.array(boundaries_gtvn2)"
   ]
  },
  {
   "cell_type": "code",
   "execution_count": 59,
   "id": "5dbe080a-6caf-4457-8450-4f23e509f914",
   "metadata": {},
   "outputs": [
    {
     "name": "stderr",
     "output_type": "stream",
     "text": [
      "D:\\work\\Miniconda3\\envs\\pytorch_gpu_v2\\Lib\\site-packages\\napari\\plugins\\_plugin_manager.py:555: UserWarning: Plugin 'napari-animated-gif-io' has already registered a function widget 'save as animated gif' which has now been overwritten\n",
      "  warn(message=warn_message)\n"
     ]
    }
   ],
   "source": [
    "#viewer = napari.view_image(np.where(np.logical_not(boundaries), image_arr, 1000.)\n",
    "viewer = napari.view_image(boundaries)\n",
    "#viewer.add_image(boundaries_gtvp)\n",
    "#viewer.add_image(boundaries_gtvn1)\n",
    "#viewer.add_image(boundaries_gtvn2)"
   ]
  },
  {
   "cell_type": "code",
   "execution_count": 13,
   "id": "415faeb5-c698-41e5-8d3a-9cffa285a3ee",
   "metadata": {},
   "outputs": [],
   "source": [
    "slic_transform = ToSLIC(add_seg=True, add_img=True, slic_zero=True)"
   ]
  },
  {
   "cell_type": "code",
   "execution_count": 189,
   "id": "46a71b1e-f853-4d69-9ae8-b98d9408443d",
   "metadata": {},
   "outputs": [],
   "source": []
  }
 ],
 "metadata": {
  "kernelspec": {
   "display_name": "pytorch_gpu_v2",
   "language": "python",
   "name": "pytorch_gpu_v2"
  },
  "language_info": {
   "codemirror_mode": {
    "name": "ipython",
    "version": 3
   },
   "file_extension": ".py",
   "mimetype": "text/x-python",
   "name": "python",
   "nbconvert_exporter": "python",
   "pygments_lexer": "ipython3",
   "version": "3.11.6"
  }
 },
 "nbformat": 4,
 "nbformat_minor": 5
}
