{
 "cells": [
  {
   "cell_type": "code",
   "execution_count": null,
   "id": "d9de7e84-a82d-4d47-aea8-44319961e255",
   "metadata": {},
   "outputs": [],
   "source": [
    "%load_ext autoreload\n",
    "%autoreload 2\n",
    "#%matplotlib widget\n",
    "#%matplotlib ipympl\n",
    "\n",
    "#%reload_ext tensorboard\n",
    "#%matplotlib qt"
   ]
  },
  {
   "cell_type": "code",
   "execution_count": null,
   "id": "5236053e-dda7-4530-9cad-2f710a1b3968",
   "metadata": {},
   "outputs": [],
   "source": [
    "import numpy as np\n",
    "import pandas as pd\n",
    "import os, datetime\n",
    "from torchinfo import summary\n",
    "#from torch_geometric.nn import summary\n",
    "import torch_geometric.transforms as T\n",
    "import torch\n",
    "import pytorch_lightning as L\n",
    "from hnc_project.pytorch.run_model_lightning import RunModel"
   ]
  },
  {
   "cell_type": "code",
   "execution_count": null,
   "id": "638470fa-8b52-44da-b739-dc88d1c31752",
   "metadata": {},
   "outputs": [],
   "source": [
    "from hnc_project.pytorch.gen_params_torch_cfg import model_config\n",
    "model_config['batch_size'] = 2\n",
    "model_config['dropout'] = 0.4\n",
    "model_config['n_epochs'] = 100\n",
    "model_config['learning_rate'] = 1e-3\n",
    "model_config['lr_patience'] = 5\n",
    "model_config['lr_factor'] = 0.1\n",
    "model_config['l2_reg'] = 0.\n",
    "model_config['n_channels'] = 1\n",
    "#model_config['data_type'] = 'image'\n",
    "#model_config['model_name'] = 'DeepGCN'\n",
    "#model_config['model_name'] = 'EmptyNetwork'\n",
    "#model_config['model_name'] = 'ResNet'\n",
    "#model_config['model_name'] = 'GraphAgResNet'\n",
    "model_config['model_name'] = 'GatedGCN'\n",
    "#model_config['extractor_name'] = 'None'\n",
    "model_config['extractor_name'] = 'resnet50'\n",
    "#model_config['extractor_name'] = 'LNCNN'\n",
    "#model_config['extractor_name'] = 'densenet3d'\n",
    "model_config['with_edge_attr'] = True\n",
    "model_config['use_clinical'] = True\n",
    "model_config['edge_dim'] = 1\n",
    "model_config['reverse_edges'] = False\n",
    "model_config['complete_graph'] = True\n",
    "model_config['undirected_graph'] = False\n",
    "model_config['scaling_type'] = 'MinMax'\n",
    "model_config['cross_val'] = True\n",
    "model_config['nested_cross_val'] = False\n",
    "model_config['num_deep_layers'] = 64\n",
    "model_config['augment'] = True\n",
    "model_config['augments'] = [\n",
    "                            'rotation',\n",
    "                           ]\n",
    "model_config['n_rotations'] = 3\n",
    "model_config['balance_classes'] = True\n",
    "model_config['class_weight'] = 3.\n",
    "#model_config['class_weight'] = 1.0\n",
    "model_config['extractor_channels'] = 64\n",
    "model_config['n_hidden_channels'] = 64\n",
    "model_config['use_GTVp_only'] = False\n",
    "#model_config['log_dir'] = 'testing_radcure_deepGCN_resnet50_z_score_v6'\n",
    "model_config['transfer'] = None\n",
    "# v1 is 29, v2 is 32, v3 is 22, v4 is 28, v5 is 8, v7 is 28, v8 is 22, v9 is 18\n",
    "model_config['clinical_data'] = 'clinical_features_v11.pkl'\n",
    "model_config['n_clinical'] = 14\n",
    "model_config['dataset_name'] = 'RADCURE'\n",
    "model_config['challenge'] = True\n",
    "model_config['remove_censored'] = True\n",
    "model_config['preset_folds'] = False\n",
    "model_config['preset_fold_file'] = 'preset_folds_wGTVp.pkl'\n",
    "model_config['save_top_k'] = 1\n",
    "#model_config['log_dir'] = 'lightning_feat64_graph_noedge_weight1_balance_real_dp3_l21e6_11180_minmax_rot3_balance_newclinical_nolrfinder_nocensor_reversed_edge_v42'\n",
    "model_config['log_dir'] = 'lightning_undirected_edge_graph_feat64_true_weight3_balance_real_dp4_l21e6_11180_minmax_rot3_balance_newclinical_nolrfinder_nocensor_v57'\n",
    "#model_config['data_version'] = 'initial_rot10_30_balance_v1'\n",
    "model_config['patch_dir'] = 'Nii_111_80_80_80_Crop'\n",
    "#model_config['data_version'] = 'image_222_gtvp_radcure_minmax_rot3_ang515_nocensor'\n",
    "#model_config['data_version'] = 'image_111505050_gtvp_radcure_minmax_rot3_ang515_nocensor'\n",
    "model_config['data_version'] = 'image_11180_gtv_all_radcure_minmax_rot3_ang30_perpat_newclinical_v4'\n",
    "#model_config['data_version'] = 'image_11180_gtvp_radcure_minmax_rot3_ang30_perpat_newclinical'\n",
    "#model_config['data_version'] = 'image_222_graph_radcure_minmax_rot3_30_nocensor'\n"
   ]
  },
  {
   "cell_type": "code",
   "execution_count": null,
   "id": "60e45e89-e0ad-40d0-b272-5ba9a00fd290",
   "metadata": {},
   "outputs": [],
   "source": [
    "model = RunModel(model_config)\n",
    "model.set_model()\n",
    "model.set_data()"
   ]
  },
  {
   "cell_type": "code",
   "execution_count": null,
   "id": "70f555d4-ca7f-40d0-a57a-8e5dacdce81a",
   "metadata": {},
   "outputs": [],
   "source": [
    "model.set_train_test_split_challenge()\n",
    "#model.set_clinical_scaling()\n",
    "model.set_data_module()\n",
    "#model.set_callbacks()"
   ]
  },
  {
   "cell_type": "code",
   "execution_count": null,
   "id": "1cf61c7e-1f8a-4487-a35f-d8029e164e3d",
   "metadata": {},
   "outputs": [],
   "source": [
    "#%%capture output\n",
    "#model.set_loss_fn()\n",
    "#model.run()\n",
    "model.run()\n",
    "model.get_metrics_dataframe()\n",
    "model.get_predictions() \n",
    "model.get_combined_metrics()\n",
    "print('############################################')\n",
    "print('############################################')\n",
    "print('############################################')\n",
    "print('############################################')\n",
    "print('############################################')\n",
    "print('############################################')\n",
    "print(model.val_metrics_df[0:5].mean())\n",
    "print(model.test_metrics_df[0:5].mean())"
   ]
  },
  {
   "cell_type": "code",
   "execution_count": null,
   "id": "36ee6fa3-5082-4171-8861-c1d1ec41e7cf",
   "metadata": {},
   "outputs": [],
   "source": [
    "model.val_metrics_df"
   ]
  },
  {
   "cell_type": "code",
   "execution_count": null,
   "id": "abb4fbde-a559-46a2-8907-8271d8ed9dab",
   "metadata": {},
   "outputs": [],
   "source": [
    "model.test_metrics_df"
   ]
  },
  {
   "cell_type": "code",
   "execution_count": null,
   "id": "b6bbdde8-6cbb-46a1-beed-09400a580583",
   "metadata": {},
   "outputs": [],
   "source": [
    "model.val_metrics_df.groupby('monitor').mean()"
   ]
  },
  {
   "cell_type": "code",
   "execution_count": null,
   "id": "7bfe14d1-abcc-4c91-a8e3-4b7d77c315a6",
   "metadata": {},
   "outputs": [],
   "source": [
    "model.test_metrics_df.groupby('monitor').mean()"
   ]
  },
  {
   "cell_type": "code",
   "execution_count": null,
   "id": "93833068-2589-485a-b1cb-2652c9919352",
   "metadata": {},
   "outputs": [],
   "source": []
  }
 ],
 "metadata": {
  "kernelspec": {
   "display_name": "pytorch_gpu_v2",
   "language": "python",
   "name": "pytorch_gpu_v2"
  },
  "language_info": {
   "codemirror_mode": {
    "name": "ipython",
    "version": 3
   },
   "file_extension": ".py",
   "mimetype": "text/x-python",
   "name": "python",
   "nbconvert_exporter": "python",
   "pygments_lexer": "ipython3",
   "version": "3.9.18"
  }
 },
 "nbformat": 4,
 "nbformat_minor": 5
}
